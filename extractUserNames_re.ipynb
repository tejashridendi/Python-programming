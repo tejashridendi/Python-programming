{
  "nbformat": 4,
  "nbformat_minor": 0,
  "metadata": {
    "colab": {
      "provenance": []
    },
    "kernelspec": {
      "name": "python3",
      "display_name": "Python 3"
    },
    "language_info": {
      "name": "python"
    }
  },
  "cells": [
    {
      "cell_type": "markdown",
      "source": [
        "\n",
        "\n",
        "**Extract Usernames**\n",
        "\n",
        "\n",
        "\n"
      ],
      "metadata": {
        "id": "G995EjYaMCHc"
      }
    },
    {
      "cell_type": "markdown",
      "source": [
        "Extract the usernames from the email addresses present in the text\n",
        "\n"
      ],
      "metadata": {
        "id": "bja7OnHofGL6"
      }
    },
    {
      "cell_type": "markdown",
      "source": [
        "\"The new registrations are potter709@gmail.com , elixir101@gmail.com. If you find any disruptions, kindly contact granger111@gamil.com or severus77@gamil.com \""
      ],
      "metadata": {
        "id": "zhYf6a1JfKM7"
      }
    },
    {
      "cell_type": "markdown",
      "source": [
        "import required libraries\n"
      ],
      "metadata": {
        "id": "sRo1rZzYfePn"
      }
    },
    {
      "cell_type": "code",
      "source": [
        "import re"
      ],
      "metadata": {
        "id": "1QP3LjiPfcxy"
      },
      "execution_count": null,
      "outputs": []
    },
    {
      "cell_type": "code",
      "source": [
        "text=\"The new registrations are potter709@gmail.com , elixir101@gmail.com \"\n"
      ],
      "metadata": {
        "id": "kvKKN2m3frIJ"
      },
      "execution_count": null,
      "outputs": []
    },
    {
      "cell_type": "markdown",
      "source": [
        "Extract usernames from mails using regex functions"
      ],
      "metadata": {
        "id": "qQbYXuvVfwQ8"
      }
    },
    {
      "cell_type": "code",
      "source": [
        "find_usrnames=re.findall('(\\S+)@',text)"
      ],
      "metadata": {
        "id": "A7Nr2BfwgCNY"
      },
      "execution_count": null,
      "outputs": []
    },
    {
      "cell_type": "code",
      "source": [
        "\n",
        "print(find_usrnames)"
      ],
      "metadata": {
        "id": "U1m5ejPWMEQ3",
        "colab": {
          "base_uri": "https://localhost:8080/"
        },
        "outputId": "4dabe313-5257-4543-c997-e618a9d2d9da"
      },
      "execution_count": null,
      "outputs": [
        {
          "output_type": "stream",
          "name": "stdout",
          "text": [
            "['potter709', 'elixir101']\n"
          ]
        }
      ]
    }
  ]
}