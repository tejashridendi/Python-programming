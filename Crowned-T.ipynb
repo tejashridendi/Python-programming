{
 "cells": [
  {
   "cell_type": "code",
   "execution_count": 5,
   "id": "b514b1c4",
   "metadata": {},
   "outputs": [
    {
     "name": "stdout",
     "output_type": "stream",
     "text": [
      "6\n",
      "                 H                  \n",
      "            H    H    H             \n",
      "            HH   H   HH             \n",
      "            HHH  H  HHH             \n",
      "            HHHH H HHHH             \n",
      "            HHHHHHHHHHH             \n",
      "      HHHHHHHHHHHHHHHHHHHHHHHH      \n",
      "      HHHHHHHHHHHHHHHHHHHHHHHH      \n",
      "      HHHHHHHHHHHHHHHHHHHHHHHH      \n",
      "               HHHHHH               \n",
      "               HHHHHH               \n",
      "               HHHHHH               \n",
      "               HHHHHH               \n",
      "               HHHHHH               \n",
      "               HHHHHH               \n",
      "               HHHHHH               \n",
      "               HHHHHH               \n",
      "               HHHHHH               \n",
      "               HHHHHH               \n",
      "               HHHHHH               \n",
      "               HHHHHH               \n"
     ]
    }
   ],
   "source": [
    "thickness = int(input()) #This must be an odd number\n",
    "c = 'H'\n",
    "#Crown\n",
    "for i in range(thickness):\n",
    "    print(((c*i).ljust(thickness-1)+c+(c*i).rjust(thickness-1)).center(thickness*6))\n",
    "#Belt\n",
    "for i in range((thickness+1)//2):\n",
    "    print((c*thickness*4).center(thickness*6))\n",
    "#Pillar\n",
    "for i in range(thickness*2):\n",
    "    print((c*thickness).center(thickness*6)) "
   ]
  },
  {
   "cell_type": "code",
   "execution_count": null,
   "id": "10b24001",
   "metadata": {},
   "outputs": [],
   "source": []
  }
 ],
 "metadata": {
  "kernelspec": {
   "display_name": "Python 3",
   "language": "python",
   "name": "python3"
  },
  "language_info": {
   "codemirror_mode": {
    "name": "ipython",
    "version": 3
   },
   "file_extension": ".py",
   "mimetype": "text/x-python",
   "name": "python",
   "nbconvert_exporter": "python",
   "pygments_lexer": "ipython3",
   "version": "3.6.9"
  }
 },
 "nbformat": 4,
 "nbformat_minor": 5
}
