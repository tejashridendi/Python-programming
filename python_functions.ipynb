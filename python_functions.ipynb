{
  "metadata": {
    "kernelspec": {
      "display_name": "Python 3",
      "language": "python",
      "name": "python3"
    },
    "language_info": {
      "name": "python",
      "version": "3.10.12",
      "mimetype": "text/x-python",
      "codemirror_mode": {
        "name": "ipython",
        "version": 3
      },
      "pygments_lexer": "ipython3",
      "nbconvert_exporter": "python",
      "file_extension": ".py"
    },
    "colab": {
      "provenance": []
    }
  },
  "nbformat_minor": 0,
  "nbformat": 4,
  "cells": [
    {
      "cell_type": "markdown",
      "source": [
        "\n",
        "\n",
        " Need to use information like the number of bedrooms and bathrooms to predict the price of a house.  Write your own function to do this.\n",
        "\n",
        "Create a function `get_expected_cost()` that has two arguments:\n",
        "- `beds` - number of bedrooms\n",
        "- `baths` - number of bathrooms\n",
        "\n",
        "It should return the expected cost of a house with that number of bedrooms and bathrooms.  Assume that:\n",
        "- the expected cost for a house with 0 bedrooms and 0 bathrooms is `80000`.  \n",
        "- each bedroom adds `30000` to the expected cost\n",
        "- each bathroom adds `10000` to the expected cost.\n",
        "\n",
        "For instance,\n",
        "- a house with 1 bedroom and 1 bathroom has an expected cost of `120000`, and\n",
        "- a house with 2 bedrooms and 1 bathroom has an expected cost of `150000`."
      ],
      "metadata": {
        "id": "nEjQWsMzh0ml"
      }
    },
    {
      "cell_type": "code",
      "source": [
        "# Complete the function\n",
        "def get_expected_cost(beds, baths):\n",
        "    value = 80000+(beds*30000)+(baths*10000)\n",
        "    return value\n",
        "\n"
      ],
      "metadata": {
        "execution": {
          "iopub.status.busy": "2023-09-11T12:45:59.848275Z",
          "iopub.execute_input": "2023-09-11T12:45:59.848689Z",
          "iopub.status.idle": "2023-09-11T12:45:59.859240Z",
          "shell.execute_reply.started": "2023-09-11T12:45:59.848659Z",
          "shell.execute_reply": "2023-09-11T12:45:59.857978Z"
        },
        "trusted": true,
        "id": "EhGcwvq6h0mn"
      },
      "execution_count": 1,
      "outputs": []
    },
    {
      "cell_type": "markdown",
      "source": [
        "\n",
        "\n",
        "Buying a home and want to get an idea of how much you will spend, based on the number of bedrooms and bathrooms.  You are trying to decide between four different options:\n",
        "- Option 1: house with two bedrooms and three bathrooms\n",
        "- Option 2: house with three bedrooms and two bathrooms\n",
        "- Option 3: house with three bedrooms and three bathrooms\n",
        "- Option 4: house with three bedrooms and four bathrooms\n",
        "\n",
        "Use the `get_expected_cost()` function you defined to set `option_1`, `option_2`, `option_3`, and `option_4` to the expected cost of each option."
      ],
      "metadata": {
        "id": "RhOTjqaih0mr"
      }
    },
    {
      "cell_type": "code",
      "source": [
        "\n",
        "option_one = get_expected_cost(2, 3)\n",
        "option_two = get_expected_cost(3, 2)\n",
        "option_three = get_expected_cost(3, 3)\n",
        "option_four = get_expected_cost(3, 4)\n",
        "\n",
        "print(option_one)\n",
        "print(option_two)\n",
        "print(option_three)\n",
        "print(option_four)\n",
        "\n"
      ],
      "metadata": {
        "execution": {
          "iopub.status.busy": "2023-09-11T12:47:48.211990Z",
          "iopub.execute_input": "2023-09-11T12:47:48.212410Z",
          "iopub.status.idle": "2023-09-11T12:47:48.223440Z",
          "shell.execute_reply.started": "2023-09-11T12:47:48.212379Z",
          "shell.execute_reply": "2023-09-11T12:47:48.222244Z"
        },
        "trusted": true,
        "colab": {
          "base_uri": "https://localhost:8080/"
        },
        "id": "at8lPb1dh0mt",
        "outputId": "62da094a-2df9-46ac-cfdc-38a1ff5e0c62"
      },
      "execution_count": 2,
      "outputs": [
        {
          "output_type": "stream",
          "name": "stdout",
          "text": [
            "170000\n",
            "190000\n",
            "200000\n",
            "210000\n"
          ]
        }
      ]
    },
    {
      "cell_type": "markdown",
      "source": [
        "\n",
        "\n",
        "You're a home decorator, and you'd like to use Python to streamline some of your work.  Specifically, you're creating a tool that you intend to use to calculate the cost of painting a room.\n",
        "\n",
        "As a first step, define a function `get_cost()` that takes as input:\n",
        "- `sqft_walls` = total square feet of walls to be painted\n",
        "- `sqft_ceiling` = square feet of ceiling to be painted\n",
        "- `sqft_per_gallon` = number of square feet that you can cover with one gallon of paint\n",
        "- `cost_per_gallon` = cost (in dollars) of one gallon of paint\n",
        "\n",
        "It should return the cost (in dollars) of putting one coat of paint on all walls and the ceiling.  Assume you can buy the exact amount of paint that you need, so you can buy partial gallons (e.g., if you need 7.523 gallons, you can buy that exact amount, instead of needing to buy 8 gallons and waste some paint).  "
      ],
      "metadata": {
        "id": "s_w5MEUth0mw"
      }
    },
    {
      "cell_type": "code",
      "source": [
        "#  Finish defining the function\n",
        "def get_cost(sqft_walls, sqft_ceiling, sqft_per_gallon, cost_per_gallon):\n",
        "    total_sqft = sqft_walls + sqft_ceiling\n",
        "    gallons_needed = total_sqft / sqft_per_gallon\n",
        "    cost = cost_per_gallon * gallons_needed\n",
        "    return cost\n",
        "\n"
      ],
      "metadata": {
        "execution": {
          "iopub.status.busy": "2023-09-11T12:48:28.912576Z",
          "iopub.execute_input": "2023-09-11T12:48:28.912998Z",
          "iopub.status.idle": "2023-09-11T12:48:28.923315Z",
          "shell.execute_reply.started": "2023-09-11T12:48:28.912963Z",
          "shell.execute_reply": "2023-09-11T12:48:28.922149Z"
        },
        "trusted": true,
        "id": "yGX6zGFgh0mx"
      },
      "execution_count": 3,
      "outputs": []
    },
    {
      "cell_type": "markdown",
      "source": [
        "\n",
        "\n",
        "Use the `get_cost()` function you defined in Question 3 to calculate the cost of applying one coat of paint to a room with:\n",
        "- 432 square feet of walls, and\n",
        "- 144 square feet of ceiling.\n",
        "\n",
        "Assume that one gallon of paint covers 400 square feet and costs $15.  "
      ],
      "metadata": {
        "id": "vxzdDmach0m0"
      }
    },
    {
      "cell_type": "code",
      "source": [
        "#  Set the project_cost variable to the cost of the project\n",
        "project_cost = get_cost(432, 144, 400, 15)\n",
        "\n"
      ],
      "metadata": {
        "execution": {
          "iopub.status.busy": "2023-09-11T12:49:09.175236Z",
          "iopub.execute_input": "2023-09-11T12:49:09.175657Z",
          "iopub.status.idle": "2023-09-11T12:49:09.185174Z",
          "shell.execute_reply.started": "2023-09-11T12:49:09.175626Z",
          "shell.execute_reply": "2023-09-11T12:49:09.184013Z"
        },
        "trusted": true,
        "id": "ltwQEAmrh0m1"
      },
      "execution_count": 4,
      "outputs": []
    },
    {
      "cell_type": "code",
      "source": [
        "test_value = 2.17\n",
        "\n",
        "rounded_value = math.ceil(test_value)\n",
        "print(rounded_value)"
      ],
      "metadata": {
        "execution": {
          "iopub.execute_input": "2022-01-11T16:20:02.068358Z",
          "iopub.status.busy": "2022-01-11T16:20:02.06753Z",
          "iopub.status.idle": "2022-01-11T16:20:02.073477Z",
          "shell.execute_reply": "2022-01-11T16:20:02.072705Z",
          "shell.execute_reply.started": "2022-01-11T16:20:02.06831Z"
        },
        "id": "vrwuMp8hh0m6"
      },
      "execution_count": null,
      "outputs": []
    },
    {
      "cell_type": "markdown",
      "source": [
        "Use the next code cell to define the function `get_actual_cost()`.  You'll need to use the `math.ceil()` function to do this.\n",
        "\n",
        "When answering this question, note that it's completely valid to define a function that makes use of another function.  For instance, we can define a function `round_up_and_divide_by_three` that makes use of the `math.ceil` function:\n",
        "```\n",
        "def round_up_and_divide_by_three(num):\n",
        "    new_value = math.ceil(num)\n",
        "    final_value = new_value / 3\n",
        "    return final_value\n",
        "```"
      ],
      "metadata": {
        "id": "gYFIR4kqh0m8"
      }
    },
    {
      "cell_type": "code",
      "source": [
        "def get_actual_cost(sqft_walls, sqft_ceiling, sqft_per_gallon, cost_per_gallon):\n",
        "    total_sqft = sqft_walls + sqft_ceiling\n",
        "    gallons_needed = total_sqft / sqft_per_gallon\n",
        "    gallons_to_buy = math.ceil(gallons_needed)\n",
        "    cost = cost_per_gallon * gallons_to_buy\n",
        "    return cost\n"
      ],
      "metadata": {
        "execution": {
          "iopub.status.busy": "2023-09-11T12:49:48.317027Z",
          "iopub.execute_input": "2023-09-11T12:49:48.317545Z",
          "iopub.status.idle": "2023-09-11T12:49:48.326302Z",
          "shell.execute_reply.started": "2023-09-11T12:49:48.317508Z",
          "shell.execute_reply": "2023-09-11T12:49:48.325089Z"
        },
        "trusted": true,
        "id": "xwR5HYeTh0m8"
      },
      "execution_count": 5,
      "outputs": []
    },
    {
      "cell_type": "code",
      "source": [
        "get_actual_cost(432, 144, 400, 15)"
      ],
      "metadata": {
        "execution": {
          "iopub.status.busy": "2023-09-11T12:49:59.681970Z",
          "iopub.execute_input": "2023-09-11T12:49:59.682429Z",
          "iopub.status.idle": "2023-09-11T12:49:59.689900Z",
          "shell.execute_reply.started": "2023-09-11T12:49:59.682391Z",
          "shell.execute_reply": "2023-09-11T12:49:59.688628Z"
        },
        "trusted": true,
        "id": "zFGZKzjsh0m_",
        "outputId": "78a8e265-3565-452d-e96a-dc30a23a9dfe"
      },
      "execution_count": null,
      "outputs": [
        {
          "execution_count": 15,
          "output_type": "execute_result",
          "data": {
            "text/plain": "30"
          },
          "metadata": {}
        }
      ]
    },
    {
      "cell_type": "markdown",
      "source": [
        "Say you're working with a slightly larger room.  Run the next code cell to calculate the cost of the project."
      ],
      "metadata": {
        "id": "xkuA37Zph0m_"
      }
    },
    {
      "cell_type": "code",
      "source": [
        "get_actual_cost(594, 288, 400, 15)"
      ],
      "metadata": {
        "execution": {
          "iopub.status.busy": "2023-09-11T12:50:02.968361Z",
          "iopub.execute_input": "2023-09-11T12:50:02.968756Z",
          "iopub.status.idle": "2023-09-11T12:50:02.976593Z",
          "shell.execute_reply.started": "2023-09-11T12:50:02.968726Z",
          "shell.execute_reply": "2023-09-11T12:50:02.975400Z"
        },
        "trusted": true,
        "id": "dGXiwNK7h0nA",
        "outputId": "29007d49-9270-4d61-b616-c9349014a9ab"
      },
      "execution_count": null,
      "outputs": [
        {
          "execution_count": 16,
          "output_type": "execute_result",
          "data": {
            "text/plain": "45"
          },
          "metadata": {}
        }
      ]
    }
  ]
}