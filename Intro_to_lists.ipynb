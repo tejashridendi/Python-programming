{
  "metadata": {
    "kernelspec": {
      "display_name": "Python 3",
      "language": "python",
      "name": "python3"
    },
    "language_info": {
      "name": "python",
      "version": "3.10.12",
      "mimetype": "text/x-python",
      "codemirror_mode": {
        "name": "ipython",
        "version": 3
      },
      "pygments_lexer": "ipython3",
      "nbconvert_exporter": "python",
      "file_extension": ".py"
    },
    "colab": {
      "provenance": []
    }
  },
  "nbformat_minor": 0,
  "nbformat": 4,
  "cells": [
    {
      "cell_type": "markdown",
      "source": [
        "\n",
        "\n",
        "You own a restaurant with five food dishes, organized in the Python list `menu` below.  One day, you decide to:\n",
        "- remove bean soup (`'bean soup'`) from the menu, and\n",
        "- add roasted beet salad (`'roasted beet salad'`) to the menu.\n",
        "\n",
        "Implement this change to the list below.  While completing this task,\n",
        "- do not change the line that creates the `menu` list.  \n",
        "- your answer should use `.remove()` and `.append()`.  "
      ],
      "metadata": {
        "id": "EcYi9kC6ZS6L"
      }
    },
    {
      "cell_type": "code",
      "source": [
        "#Initial menu for  restaurant\n",
        "menu = ['stewed meat with onions', 'bean soup', 'risotto with trout and shrimp',\n",
        "       'fish soup with cream and onion', 'gyro']\n",
        "\n",
        "\n",
        "# Removing 'bean soup', and add 'roasted beet salad' to the end of the menu\n",
        "menu.remove('bean soup')\n",
        "menu.append('roasted beet salad')\n",
        "\n"
      ],
      "metadata": {
        "execution": {
          "iopub.status.busy": "2023-09-14T05:44:13.936926Z",
          "iopub.execute_input": "2023-09-14T05:44:13.937343Z",
          "iopub.status.idle": "2023-09-14T05:44:13.947334Z",
          "shell.execute_reply.started": "2023-09-14T05:44:13.937310Z",
          "shell.execute_reply": "2023-09-14T05:44:13.946290Z"
        },
        "trusted": true,
        "id": "OWmG7WFpZS6N"
      },
      "execution_count": 1,
      "outputs": []
    },
    {
      "cell_type": "markdown",
      "source": [
        "\n",
        "\n",
        "The list `num_customers` contains the number of customers who came into your restaurant every day over the last month (which lasted thirty days).  Fill in values for each of the following:\n",
        "- `avg_first_seven` - average number of customers who visited in the first seven days\n",
        "- `avg_last_seven` - average number of customers who visited in the last seven days\n",
        "- `max_month` - number of customers on the day that got the most customers in the last month\n",
        "- `min_month` - number of customers on the day that got the least customers in the last month\n",
        "\n",
        "Answer this question by writing code.  For instance, if you have to find the minimum value in a list, use `min()` instead of scanning for the smallest value and directly filling in a number."
      ],
      "metadata": {
        "id": "OWaglhuUZS6R"
      }
    },
    {
      "cell_type": "code",
      "source": [
        "#  Number of customers each day for the last month\n",
        "num_customers = [137, 147, 135, 128, 170, 174, 165, 146, 126, 159,\n",
        "                 141, 148, 132, 147, 168, 153, 170, 161, 148, 152,\n",
        "                 141, 151, 131, 149, 164, 163, 143, 143, 166, 171]\n",
        "\n",
        "\n",
        "avg_first_seven = sum(num_customers[:7])/7\n",
        "avg_last_seven = sum(num_customers[-7:])/7\n",
        "max_month = max(num_customers)\n",
        "min_month = min(num_customers)\n",
        "\n"
      ],
      "metadata": {
        "execution": {
          "iopub.status.busy": "2023-09-14T05:44:49.557544Z",
          "iopub.execute_input": "2023-09-14T05:44:49.557885Z",
          "iopub.status.idle": "2023-09-14T05:44:49.568374Z",
          "shell.execute_reply.started": "2023-09-14T05:44:49.557858Z",
          "shell.execute_reply": "2023-09-14T05:44:49.567209Z"
        },
        "trusted": true,
        "id": "gwT4PcakZS6T"
      },
      "execution_count": 2,
      "outputs": []
    },
    {
      "cell_type": "markdown",
      "source": [
        " we gave an example of a Python string with information that was better as a list."
      ],
      "metadata": {
        "id": "zgoVlxnUZS6X"
      }
    },
    {
      "cell_type": "code",
      "source": [
        "flowers = \"pink primrose,hard-leaved pocket orchid,canterbury bells,sweet pea,english marigold,tiger lily,moon orchid,bird of paradise,monkshood,globe thistle\""
      ],
      "metadata": {
        "execution": {
          "iopub.status.busy": "2023-09-14T05:45:07.077778Z",
          "iopub.execute_input": "2023-09-14T05:45:07.078445Z",
          "iopub.status.idle": "2023-09-14T05:45:07.082871Z",
          "shell.execute_reply.started": "2023-09-14T05:45:07.078396Z",
          "shell.execute_reply": "2023-09-14T05:45:07.081784Z"
        },
        "trusted": true,
        "id": "90zQydaCZS6Y"
      },
      "execution_count": 3,
      "outputs": []
    },
    {
      "cell_type": "markdown",
      "source": [
        "You can actually use Python to quickly turn this string into a list with `.split()`.  In the parentheses, we need to provide the character should be used to mark the end of one list item and the beginning of another, and enclose it in quotation marks.  In this case, that character is a comma."
      ],
      "metadata": {
        "id": "a_T4hB7sZS6Z"
      }
    },
    {
      "cell_type": "code",
      "source": [
        " print(flowers.split(\",\"))"
      ],
      "metadata": {
        "execution": {
          "iopub.status.busy": "2023-09-14T05:45:11.851441Z",
          "iopub.execute_input": "2023-09-14T05:45:11.851793Z",
          "iopub.status.idle": "2023-09-14T05:45:11.856852Z",
          "shell.execute_reply.started": "2023-09-14T05:45:11.851765Z",
          "shell.execute_reply": "2023-09-14T05:45:11.855938Z"
        },
        "trusted": true,
        "colab": {
          "base_uri": "https://localhost:8080/"
        },
        "id": "k0R1QrXqZS6Z",
        "outputId": "fd56fe73-8a30-4ec8-c0e0-86ca3b236692"
      },
      "execution_count": 4,
      "outputs": [
        {
          "output_type": "stream",
          "name": "stdout",
          "text": [
            "['pink primrose', 'hard-leaved pocket orchid', 'canterbury bells', 'sweet pea', 'english marigold', 'tiger lily', 'moon orchid', 'bird of paradise', 'monkshood', 'globe thistle']\n"
          ]
        }
      ]
    },
    {
      "cell_type": "markdown",
      "source": [
        "Now it is your turn to try this out!  Create two Python lists:\n",
        "- `letters` should be a Python list where each entry is an uppercase letter of the English alphabet.  For instance, the first two entries should be `\"A\"` and `\"B\"`, and the final two entries should be `\"Y\"` and `\"Z\"`.  Use the string `alphabet` to create this list.\n",
        "- `address` should be a Python list where each row in `address` is a different item in the list.  Currently, each row in `address` is separated by a comma."
      ],
      "metadata": {
        "id": "ZUf73HmFZS6a"
      }
    },
    {
      "cell_type": "code",
      "source": [
        "# Define two Python strings\n",
        "alphabet = \"A.B.C.D.E.F.G.H.I.J.K.L.M.N.O.P.Q.R.S.T.U.V.W.X.Y.Z\"\n",
        "address = \"Mr. H. Potter,The cupboard under the Stairs,4 Privet Drive,Little Whinging,Surrey\"\n",
        "\n",
        "#  Convert strings into Python lists\n",
        "letters = alphabet.split(\".\")\n",
        "formatted_address = address.split(\",\")\n",
        "\n"
      ],
      "metadata": {
        "execution": {
          "iopub.status.busy": "2023-09-14T05:45:49.922921Z",
          "iopub.execute_input": "2023-09-14T05:45:49.923288Z",
          "iopub.status.idle": "2023-09-14T05:45:49.932507Z",
          "shell.execute_reply.started": "2023-09-14T05:45:49.923255Z",
          "shell.execute_reply": "2023-09-14T05:45:49.931588Z"
        },
        "trusted": true,
        "id": "275A4z6YZS6b"
      },
      "execution_count": 5,
      "outputs": []
    },
    {
      "cell_type": "markdown",
      "source": [
        "\n",
        "\n",
        "# List comprehensions\n",
        " allows you to create a list based on the values in another list.  \n",
        "\n"
      ],
      "metadata": {
        "id": "NjtDeecXZS6e"
      }
    },
    {
      "cell_type": "code",
      "source": [
        "test_ratings = [1, 2, 3, 4, 5]"
      ],
      "metadata": {
        "execution": {
          "iopub.status.busy": "2023-09-14T05:46:03.535976Z",
          "iopub.execute_input": "2023-09-14T05:46:03.536358Z",
          "iopub.status.idle": "2023-09-14T05:46:03.541502Z",
          "shell.execute_reply.started": "2023-09-14T05:46:03.536325Z",
          "shell.execute_reply": "2023-09-14T05:46:03.540591Z"
        },
        "trusted": true,
        "id": "pFv9Q0BJZS6f"
      },
      "execution_count": 6,
      "outputs": []
    },
    {
      "cell_type": "markdown",
      "source": [
        "Then we can use this list (`test_ratings`) to create a new list (`test_liked`) where each item has been turned into a boolean, depending on whether or not the item is greater than or equal to four."
      ],
      "metadata": {
        "id": "yLHjIgpqZS6g"
      }
    },
    {
      "cell_type": "code",
      "source": [
        "test_liked = [i>=4 for i in test_ratings]\n",
        "print(test_liked)"
      ],
      "metadata": {
        "execution": {
          "iopub.status.busy": "2023-09-14T05:46:10.903377Z",
          "iopub.execute_input": "2023-09-14T05:46:10.903706Z",
          "iopub.status.idle": "2023-09-14T05:46:10.909021Z",
          "shell.execute_reply.started": "2023-09-14T05:46:10.903679Z",
          "shell.execute_reply": "2023-09-14T05:46:10.908089Z"
        },
        "trusted": true,
        "id": "2ZzxGlCtZS6g",
        "outputId": "bc2e0861-dbc1-4cf8-aeef-a7e01aa1fd82"
      },
      "execution_count": null,
      "outputs": [
        {
          "name": "stdout",
          "text": "[False, False, False, True, True]\n",
          "output_type": "stream"
        }
      ]
    },
    {
      "cell_type": "markdown",
      "source": [
        "Use this list comprehension to define a function `percentage_liked()` that takes one argument as input:\n",
        "- `ratings`: list of ratings that people gave to a movie, where each rating is a number between 1-5, inclusive\n",
        "\n",
        "We say someone liked the movie, if they gave a rating of either 4 or 5.  Your function should return the percentage of people who liked the movie.\n",
        "\n",
        "For instance, if we supply a value of `[1, 2, 3, 4, 5, 4, 5, 1]`, then 50% (4/8) of the people liked the movie, and the function should return `0.5`.\n",
        "\n",
        "Part of the function has already been completed for you.  You need only use `list_liked` to calculate `percentage_liked`."
      ],
      "metadata": {
        "id": "fnb8n9wyZS6i"
      }
    },
    {
      "cell_type": "code",
      "source": [
        "\n",
        "def percentage_liked(ratings):\n",
        "    list_liked = [i >= 4 for i in ratings]\n",
        "    percentage_liked = sum(list_liked)/len(list_liked)\n",
        "    return percentage_liked\n",
        "\n",
        "#  should return 0.5\n",
        "percentage_liked([1, 2, 3, 4, 5, 4, 5, 1])\n",
        "\n"
      ],
      "metadata": {
        "execution": {
          "iopub.status.busy": "2023-09-14T05:46:48.925351Z",
          "iopub.execute_input": "2023-09-14T05:46:48.925687Z",
          "iopub.status.idle": "2023-09-14T05:46:48.936081Z",
          "shell.execute_reply.started": "2023-09-14T05:46:48.925662Z",
          "shell.execute_reply": "2023-09-14T05:46:48.934982Z"
        },
        "trusted": true,
        "colab": {
          "base_uri": "https://localhost:8080/"
        },
        "id": "DtjUHAUEZS6i",
        "outputId": "de97def5-c76c-49db-e63e-da4937e45626"
      },
      "execution_count": 7,
      "outputs": [
        {
          "output_type": "execute_result",
          "data": {
            "text/plain": [
              "0.5"
            ]
          },
          "metadata": {},
          "execution_count": 7
        }
      ]
    },
    {
      "cell_type": "markdown",
      "source": [
        "\n",
        "\n",
        " A function that returns the percentage growth in the total number of users relative to a specified number of years ago.\n",
        "\n",
        " function `percentage_growth()` should take two arguments as input:\n",
        "- `num_users` = Python list with the total number of users each year.  So `num_users[0]` is the total number of users in the first year, `num_users[1]` is the total number of users in the second year, and so on.  The final entry in the list gives the total number of users in the most recently completed year.\n",
        "- `yrs_ago` = number of years to go back in time when calculating the growth percentage\n",
        "\n",
        "For instance, say `num_users = [920344, 1043553, 1204334, 1458996, 1503323, 1593432, 1623463, 1843064, 1930992, 2001078]`.\n",
        "- if `yrs_ago = 1`, we want the function to return a value of about `0.036`. This corresponds to a percentage growth of approximately 3.6%, calculated as (2001078 - 1930992)/1930992.\n",
        "- if `years_ago = 7`, we would want to return approximately `0.66`.  This corresponds to a percentage growth of approximately 66%, calculated as (2001078 - 1204334)/1204334.\n",
        "\n",
        " coworker sent you a draft of a function, but it doesn't seem to be doing the correct calculation.  "
      ],
      "metadata": {
        "id": "3bNhUS7UZS6k"
      }
    },
    {
      "cell_type": "code",
      "source": [
        "\n",
        "def percentage_growth(num_users, yrs_ago):\n",
        "    growth = (num_users[len(num_users)-1] - num_users[len(num_users)-yrs_ago-1])/num_users[len(num_users)-yrs_ago-1]\n",
        "    return growth\n",
        "\n",
        "# Variable for calculating some test examples\n",
        "num_users_test = [920344, 1043553, 1204334, 1458996, 1503323, 1593432, 1623463, 1843064, 1930992, 2001078]\n",
        "\n",
        "# Should return .036\n",
        "print(percentage_growth(num_users_test, 1))\n",
        "\n",
        "#  Should return 0.66\n",
        "print(percentage_growth(num_users_test, 7))\n",
        "\n"
      ],
      "metadata": {
        "execution": {
          "iopub.status.busy": "2023-09-14T05:47:45.656581Z",
          "iopub.execute_input": "2023-09-14T05:47:45.656951Z",
          "iopub.status.idle": "2023-09-14T05:47:45.670255Z",
          "shell.execute_reply.started": "2023-09-14T05:47:45.656924Z",
          "shell.execute_reply": "2023-09-14T05:47:45.669151Z"
        },
        "trusted": true,
        "colab": {
          "base_uri": "https://localhost:8080/"
        },
        "id": "6syAE9usZS6k",
        "outputId": "f166a6db-b8af-4601-928c-637611fb68c1"
      },
      "execution_count": 8,
      "outputs": [
        {
          "output_type": "stream",
          "name": "stdout",
          "text": [
            "0.03629533421163837\n",
            "0.6615639847417742\n"
          ]
        }
      ]
    }
  ]
}