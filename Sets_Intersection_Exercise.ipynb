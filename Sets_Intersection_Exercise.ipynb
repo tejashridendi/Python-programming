{
 "cells": [
  {
   "cell_type": "code",
   "execution_count": null,
   "id": "6394c939",
   "metadata": {},
   "outputs": [],
   "source": [
    "Description\n",
    "Let’s say you have two lists, A and B. Identify the elements which are common in the two lists, A and B and return them in a sorted manner. For example \n",
    "\n",
    "\n",
    "\n",
    "Sample Input :\n",
    "\n",
    "A = [5,1,3,4,4,5,6,7]\n",
    "\n",
    "B = [3,3,5,5, 1 ,7 ,9]\n",
    "\n",
    "\n",
    "\n",
    "Sample Output:\n",
    "\n",
    "[1,3,5,7]"
   ]
  },
  {
   "cell_type": "code",
   "execution_count": 20,
   "id": "a7b3b262",
   "metadata": {},
   "outputs": [
    {
     "name": "stdout",
     "output_type": "stream",
     "text": [
      "[5,1,3,4,4,5,6,7]\n",
      "[3,3,5,5, 1 ,7 ,9]\n",
      "['3', '5']\n"
     ]
    }
   ],
   "source": [
    "\n",
    "list_1=input().split(',')\n",
    "list_2=input().split(',')\n",
    "# answer here\n",
    "answer=list(set(list_1).intersection(set(list_2)))\n",
    "print(answer)"
   ]
  },
  {
   "cell_type": "code",
   "execution_count": null,
   "id": "50b0f202",
   "metadata": {},
   "outputs": [],
   "source": []
  }
 ],
 "metadata": {
  "kernelspec": {
   "display_name": "Python 3",
   "language": "python",
   "name": "python3"
  },
  "language_info": {
   "codemirror_mode": {
    "name": "ipython",
    "version": 3
   },
   "file_extension": ".py",
   "mimetype": "text/x-python",
   "name": "python",
   "nbconvert_exporter": "python",
   "pygments_lexer": "ipython3",
   "version": "3.6.9"
  }
 },
 "nbformat": 4,
 "nbformat_minor": 5
}
