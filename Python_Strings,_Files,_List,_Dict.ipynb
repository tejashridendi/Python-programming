{
  "nbformat": 4,
  "nbformat_minor": 0,
  "metadata": {
    "colab": {
      "provenance": [],
      "authorship_tag": "ABX9TyMWUwc7C5MduVg9H+eB2Ev7"
    },
    "kernelspec": {
      "name": "python3",
      "display_name": "Python 3"
    },
    "language_info": {
      "name": "python"
    }
  },
  "cells": [
    {
      "cell_type": "code",
      "execution_count": 1,
      "metadata": {
        "colab": {
          "base_uri": "https://localhost:8080/"
        },
        "id": "dVTrrfD2e4t-",
        "outputId": "bcfa77fa-c58d-45ec-8456-64010e2e5567"
      },
      "outputs": [
        {
          "output_type": "stream",
          "name": "stdout",
          "text": [
            "\u001b[31mERROR: Could not find a version that satisfies the requirement python (from versions: none)\u001b[0m\u001b[31m\n",
            "\u001b[0m\u001b[31mERROR: No matching distribution found for python\u001b[0m\u001b[31m\n",
            "\u001b[0m"
          ]
        }
      ],
      "source": [
        "!pip install python"
      ]
    },
    {
      "cell_type": "code",
      "source": [
        "!python --version"
      ],
      "metadata": {
        "colab": {
          "base_uri": "https://localhost:8080/"
        },
        "id": "CRCeuSLze-uO",
        "outputId": "4d4cf29b-653e-4b32-8b6c-70117ef41ec1"
      },
      "execution_count": 2,
      "outputs": [
        {
          "output_type": "stream",
          "name": "stdout",
          "text": [
            "Python 3.10.12\n"
          ]
        }
      ]
    },
    {
      "cell_type": "markdown",
      "source": [
        "Write a program to calculate a tip based on the amount owed and the percentage amount to tip. Don’t worry about floating point precision."
      ],
      "metadata": {
        "id": "Rna_9d84fCUG"
      }
    },
    {
      "cell_type": "code",
      "source": [
        "def calculate_tip(amount_owed, tip_percentage):\n",
        "    \"\"\"\n",
        "    Calculate the tip based on the amount owed and the tip percentage.\n",
        "\n",
        "    :param amount_owed: The total amount owed (in dollars or your currency).\n",
        "    :param tip_percentage: The percentage of the amount to give as a tip.\n",
        "    :return: The calculated tip amount.\n",
        "    \"\"\"\n",
        "    tip_amount = amount_owed * (tip_percentage / 100)\n",
        "    return tip_amount\n",
        "\n",
        "\n",
        "amount_owed = float(input(\"Enter the amount owed: \"))\n",
        "tip_percentage = float(input(\"Enter the tip percentage: \"))\n",
        "\n",
        "tip = calculate_tip(amount_owed, tip_percentage)\n",
        "total_amount = amount_owed + tip\n",
        "\n",
        "print(f\"The calculated tip is: ${tip:.2f}\")\n",
        "print(f\"The total amount to be paid is: ${total_amount:.2f}\")\n"
      ],
      "metadata": {
        "colab": {
          "base_uri": "https://localhost:8080/"
        },
        "id": "OJ1L8UVse8TE",
        "outputId": "9cdc7aed-d943-4506-87a5-eece8eac1d14"
      },
      "execution_count": 3,
      "outputs": [
        {
          "output_type": "stream",
          "name": "stdout",
          "text": [
            "Enter the amount owed: 50\n",
            "Enter the tip percentage: 10\n",
            "The calculated tip is: $5.00\n",
            "The total amount to be paid is: $55.00\n"
          ]
        }
      ]
    },
    {
      "cell_type": "markdown",
      "source": [
        "Write a program that prints the “Twinkle, Twinkle, Little Star” rhyme."
      ],
      "metadata": {
        "id": "Q25btCDRfUyc"
      }
    },
    {
      "cell_type": "code",
      "source": [
        "def print_twinkle_twinkle():\n",
        "    rhyme = \"\"\"\n",
        "    Twinkle, twinkle, little star,\n",
        "        How I wonder what you are!\n",
        "            Up above the world so high,\n",
        "            Like a diamond in the sky.\n",
        "    Twinkle, twinkle, little star,\n",
        "        How I wonder what you are!\n",
        "    \"\"\"\n",
        "    print(rhyme)\n",
        "\n",
        "print_twinkle_twinkle()\n"
      ],
      "metadata": {
        "colab": {
          "base_uri": "https://localhost:8080/"
        },
        "id": "ItKaX5NJfaAT",
        "outputId": "1a1ea64d-1d8f-401e-d328-3d582d1cc966"
      },
      "execution_count": 4,
      "outputs": [
        {
          "output_type": "stream",
          "name": "stdout",
          "text": [
            "\n",
            "    Twinkle, twinkle, little star,\n",
            "        How I wonder what you are!\n",
            "            Up above the world so high,\n",
            "            Like a diamond in the sky.\n",
            "    Twinkle, twinkle, little star,\n",
            "        How I wonder what you are!\n",
            "    \n"
          ]
        }
      ]
    },
    {
      "cell_type": "markdown",
      "source": [
        "Write a program that reads in a user’s input and prints the number of characters that they typed."
      ],
      "metadata": {
        "id": "Yey_-8N4fmCM"
      }
    },
    {
      "cell_type": "code",
      "source": [
        "def count_characters():\n",
        "    user_input = input(\"Enter a string: \")\n",
        "    character_count = len(user_input)\n",
        "    print(f\"The number of characters in the string is: {character_count}\")\n",
        "\n",
        "count_characters()"
      ],
      "metadata": {
        "colab": {
          "base_uri": "https://localhost:8080/"
        },
        "id": "_DpCPXTKfuk0",
        "outputId": "079d913b-615a-440e-82a8-0c0df32a5fbd"
      },
      "execution_count": 5,
      "outputs": [
        {
          "output_type": "stream",
          "name": "stdout",
          "text": [
            "Enter a string: Amarendhra Bahubali\n",
            "The number of characters in the string is: 19\n"
          ]
        }
      ]
    },
    {
      "cell_type": "markdown",
      "source": [
        "Write a program that prompts the user for a string and prints the result of replacing every occurrence of the first character, except the first itself, with an @. E.g. illinois results in ill@no@s. (string replace method)"
      ],
      "metadata": {
        "id": "ZSFr0aF7f7hV"
      }
    },
    {
      "cell_type": "code",
      "source": [
        "def replace_first_char_with_at(input_string):\n",
        "    if not input_string:\n",
        "        return input_string\n",
        "\n",
        "    first_char = input_string[0]\n",
        "    # Replace every occurrence of the first character with '@', except the first one\n",
        "    modified_string = first_char + input_string[1:].replace(first_char, '@')\n",
        "    return modified_string\n",
        "\n",
        "# Prompt the user for a string\n",
        "user_input = input(\"Enter a string: \")\n",
        "\n",
        "# Get the modified string\n",
        "result = replace_first_char_with_at(user_input)\n",
        "\n",
        "# Print the result\n",
        "print(\"Modified string:\", result)\n"
      ],
      "metadata": {
        "colab": {
          "base_uri": "https://localhost:8080/"
        },
        "id": "rovf_wm7gA6E",
        "outputId": "261fe4c4-35ee-404a-c69d-630f0791cef0"
      },
      "execution_count": 6,
      "outputs": [
        {
          "output_type": "stream",
          "name": "stdout",
          "text": [
            "Enter a string: liril\n",
            "Modified string: liri@\n"
          ]
        }
      ]
    },
    {
      "cell_type": "markdown",
      "source": [
        "Write a program that checks to see if all the characters of the English alphabet are in the string. Use the sorted() function and the == operator. (Don’t include punctuation marks in your test strings)"
      ],
      "metadata": {
        "id": "BhSkItJshCjU"
      }
    },
    {
      "cell_type": "code",
      "source": [
        "def check_alphabet_characters(input_string):\n",
        "    alphabet = \"abcdefghijklmnopqrstuvwxyz\"\n",
        "    sorted_alphabet = sorted(alphabet)\n",
        "    sorted_input_string = sorted(input_string.lower())\n",
        "    return sorted_alphabet == sorted_input_string\n",
        "input_string=input(\"Enter a string:\")\n",
        "result=     print(check_alphabet_characters(input_string))\n"
      ],
      "metadata": {
        "colab": {
          "base_uri": "https://localhost:8080/"
        },
        "id": "MkTe-fmqhH1s",
        "outputId": "77cc5584-2d13-4300-c989-977da01aafac"
      },
      "execution_count": 9,
      "outputs": [
        {
          "output_type": "stream",
          "name": "stdout",
          "text": [
            "Enter a string:lala land\n",
            "False\n"
          ]
        }
      ]
    },
    {
      "cell_type": "markdown",
      "source": [
        "Write a Python program to sum all the numbers in a list. (Use the sum() function)"
      ],
      "metadata": {
        "id": "AO_9iRf-iP-U"
      }
    },
    {
      "cell_type": "code",
      "source": [
        "def sum_list_numbers(input_list):\n",
        "    total = sum(input_list)\n",
        "    return total\n",
        "# Split the input string into a list of numbers\n",
        "input_string = input(\"Enter a list of numbers separated by spaces: \")\n",
        "input_list = [int(x) for x in input_string.split()]\n",
        "result = print(sum_list_numbers(input_list))"
      ],
      "metadata": {
        "colab": {
          "base_uri": "https://localhost:8080/"
        },
        "id": "JGVnAfcuiVDT",
        "outputId": "b0e76515-cb82-4c62-8c8b-da0ae11c6bcd"
      },
      "execution_count": 15,
      "outputs": [
        {
          "output_type": "stream",
          "name": "stdout",
          "text": [
            "Enter a list of numbers separated by spaces: 3020 30\n",
            "3050\n"
          ]
        }
      ]
    },
    {
      "cell_type": "markdown",
      "source": [
        "Write a Python program to remove the duplicates from a list. Do not use any loops and don’t worry if elements of the list change positions in the result."
      ],
      "metadata": {
        "id": "1Prswz4BkXef"
      }
    },
    {
      "cell_type": "code",
      "source": [
        "def remove_duplicates(input_list):\n",
        "    unique_list = []\n",
        "    for item in input_list:\n",
        "        if item not in unique_list:\n",
        "            unique_list.append(item)\n",
        "    return unique_list\n",
        "input_string = input(\"Enter a list of numbers separated by spaces: \")\n",
        "input_list = [x for x in input_string.split()]\n",
        "result=print(remove_duplicates(input_list))"
      ],
      "metadata": {
        "colab": {
          "base_uri": "https://localhost:8080/"
        },
        "id": "Co7AwQPDkpUG",
        "outputId": "51d76de6-0fdd-485b-d658-6a0eefe8276e"
      },
      "execution_count": 17,
      "outputs": [
        {
          "output_type": "stream",
          "name": "stdout",
          "text": [
            "Enter a list of numbers separated by spaces: a great  day in the year 2024.\n",
            "['a', 'great', 'day', 'in', 'the', 'year', '2024.']\n"
          ]
        }
      ]
    },
    {
      "cell_type": "markdown",
      "source": [
        "Write a simple phonebook for yourself in which you search using a person’s first and last name."
      ],
      "metadata": {
        "id": "RS2daaydl6-d"
      }
    },
    {
      "cell_type": "code",
      "source": [
        "# Phonebook dictionary to store contacts\n",
        "phonebook = {}\n",
        "\n",
        "def add_contact(first_name, last_name, phone_number):\n",
        "    \"\"\"\n",
        "    Adds a contact to the phonebook.\n",
        "    \"\"\"\n",
        "    full_name = f\"{first_name} {last_name}\"\n",
        "    phonebook[full_name] = phone_number\n",
        "    print(f\"Contact {full_name} added successfully.\")\n",
        "\n",
        "def search_contact(first_name, last_name):\n",
        "    \"\"\"\n",
        "    Searches for a contact by first and last name.\n",
        "    \"\"\"\n",
        "    full_name = f\"{first_name} {last_name}\"\n",
        "    if full_name in phonebook:\n",
        "        return phonebook[full_name]\n",
        "    else:\n",
        "        return None\n",
        "\n",
        "# Function to display the menu\n",
        "def display_menu():\n",
        "    print(\"\\nPhonebook Menu\")\n",
        "    print(\"1. Add Contact\")\n",
        "    print(\"2. Search Contact\")\n",
        "    print(\"3. Exit\")\n",
        "\n",
        "# Main program loop\n",
        "while True:\n",
        "    display_menu()\n",
        "    choice = input(\"Enter your choice: \")\n",
        "\n",
        "    if choice == '1':\n",
        "        first_name = input(\"Enter first name: \")\n",
        "        last_name = input(\"Enter last name: \")\n",
        "        phone_number = input(\"Enter phone number: \")\n",
        "        add_contact(first_name, last_name, phone_number)\n",
        "    elif choice == '2':\n",
        "        first_name = input(\"Enter first name: \")\n",
        "        last_name = input(\"Enter last name: \")\n",
        "        result = search_contact(first_name, last_name)\n",
        "        if result:\n",
        "            print(f\"Phone number for {first_name} {last_name} is {result}\")\n",
        "        else:\n",
        "            print(f\"No contact found for {first_name} {last_name}\")\n",
        "    elif choice == '3':\n",
        "        print(\"Exiting phonebook. Goodbye!\")\n",
        "        break\n",
        "    else:\n",
        "        print(\"Invalid choice. Please try again.\")\n",
        "\n",
        "\n"
      ],
      "metadata": {
        "colab": {
          "base_uri": "https://localhost:8080/"
        },
        "id": "bjJlbe2Ol_TW",
        "outputId": "f59f15d3-41ff-4b34-cee1-48e3ddbafb21"
      },
      "execution_count": 18,
      "outputs": [
        {
          "output_type": "stream",
          "name": "stdout",
          "text": [
            "\n",
            "Phonebook Menu\n",
            "1. Add Contact\n",
            "2. Search Contact\n",
            "3. Exit\n",
            "Enter your choice: 1\n",
            "Enter first name: Sam\n",
            "Enter last name: Ruth\n",
            "Enter phone number: 2134567890\n",
            "Contact Sam Ruth added successfully.\n",
            "\n",
            "Phonebook Menu\n",
            "1. Add Contact\n",
            "2. Search Contact\n",
            "3. Exit\n",
            "Enter your choice: 2\n",
            "Enter first name: Sam\n",
            "Enter last name: Ruth\n",
            "Phone number for Sam Ruth is 2134567890\n",
            "\n",
            "Phonebook Menu\n",
            "1. Add Contact\n",
            "2. Search Contact\n",
            "3. Exit\n",
            "Enter your choice: 3\n",
            "Exiting phonebook. Goodbye!\n"
          ]
        }
      ]
    },
    {
      "cell_type": "markdown",
      "source": [
        "Write a program to convert a list of strings to a single string. (Look into the .join() method of strings)"
      ],
      "metadata": {
        "id": "qjYbmoEKpQ31"
      }
    },
    {
      "cell_type": "code",
      "source": [
        "def convert_list_to_string(input_list):\n",
        "    string = ' '.join(input_list)\n",
        "    return string\n",
        "input_string = list(input(\"Enter a list of strings  separated by spaces: \"))\n",
        "print( type(input_string))\n",
        "#input_list = [x for x in input_string.split()]\n",
        "res=print(convert_list_to_string(input_list))"
      ],
      "metadata": {
        "colab": {
          "base_uri": "https://localhost:8080/"
        },
        "id": "GZDnLc1HpeVS",
        "outputId": "75aaf734-7386-4445-fc70-5701521c45c2"
      },
      "execution_count": 24,
      "outputs": [
        {
          "output_type": "stream",
          "name": "stdout",
          "text": [
            "Enter a list of strings  separated by spaces: Write a program to convert a list of strings to a single string. (Look into the .join() method of strings)\n",
            "<class 'list'>\n",
            "convert a list of strings to a single string\n"
          ]
        }
      ]
    },
    {
      "cell_type": "markdown",
      "source": [
        "Using the formula pi*r**2\n",
        ", calculate the area of a circle taking as input from the user a radius. You can use from math import pi"
      ],
      "metadata": {
        "id": "Gz1S8KfsrPws"
      }
    },
    {
      "cell_type": "code",
      "source": [
        "from math import pi\n",
        "def calculate_area_of_circle(radius):\n",
        "    area = pi * (radius ** 2)\n",
        "    return area\n",
        "input_radius= float( input()    )\n",
        "result=print(calculate_area_of_circle(input_radius))"
      ],
      "metadata": {
        "colab": {
          "base_uri": "https://localhost:8080/"
        },
        "id": "ZXVnJvZ3ro0d",
        "outputId": "aa93d26c-a0fe-4c5c-eaee-7e7f80c0d0c4"
      },
      "execution_count": 25,
      "outputs": [
        {
          "output_type": "stream",
          "name": "stdout",
          "text": [
            "22.28\n",
            "1559.4815666937277\n"
          ]
        }
      ]
    },
    {
      "cell_type": "markdown",
      "source": [
        "Prompt the user for a starting value. Then on the next four lines, print the value to the nth power starting with 1. Print in a table-like fashion."
      ],
      "metadata": {
        "id": "Bjwvc-9Zr-WZ"
      }
    },
    {
      "cell_type": "code",
      "source": [
        "def power_of_numbers(start_value):\n",
        "    print(\"Base  Power  Result\")\n",
        "    print(\"----------------------\")\n",
        "    for i in range(1, 5):\n",
        "\n",
        "        result = start_value ** i\n",
        "        print(f\"{start_value}     {i}      {result}\")\n",
        "\n",
        "start_value = int(input(\"Enter a starting value: \"))\n",
        "result=power_of_numbers(start_value)"
      ],
      "metadata": {
        "colab": {
          "base_uri": "https://localhost:8080/"
        },
        "id": "jS-IfdgfsGOm",
        "outputId": "897d6d3a-20b9-400c-ac0e-10d8d008999e"
      },
      "execution_count": 31,
      "outputs": [
        {
          "output_type": "stream",
          "name": "stdout",
          "text": [
            "Enter a starting value: 6\n",
            "Base  Power  Result\n",
            "----------------------\n",
            "6     1     6\n",
            "6     2     36\n",
            "6     3     216\n",
            "6     4     1296\n"
          ]
        }
      ]
    },
    {
      "cell_type": "markdown",
      "source": [
        "Prompt the user on a single line for 3 names separated by a space. Print those names on separate lines in reverse order. Use the help function to find the methods you will need for string types."
      ],
      "metadata": {
        "id": "ykRwn0cHuNHs"
      }
    },
    {
      "cell_type": "code",
      "source": [
        "def reverse_names():\n",
        "    names = input(\"Enter three names separated by a space: \")\n",
        "    name_list = names.split()\n",
        "    reversed_names = [name[::-1] for name in name_list]\n",
        "    for name in reversed_names:\n",
        "        print(name)\n",
        "res=reverse_names()"
      ],
      "metadata": {
        "colab": {
          "base_uri": "https://localhost:8080/"
        },
        "id": "egEzJD3juTsE",
        "outputId": "f5ca682a-cd69-4c08-dbe5-433acdebed69"
      },
      "execution_count": 32,
      "outputs": [
        {
          "output_type": "stream",
          "name": "stdout",
          "text": [
            "Enter three names separated by a space: Atal  Bihari  Bajpayee\n",
            "latA\n",
            "irahiB\n",
            "eeyapjaB\n"
          ]
        }
      ]
    },
    {
      "cell_type": "code",
      "source": [
        "# Prompt the user for three names separated by a space\n",
        "user_input = input(\"Enter three names separated by a space: \")\n",
        "\n",
        "# Split the input string into a list of names\n",
        "names = user_input.split()\n",
        "\n",
        "# Check if the input contains exactly three names\n",
        "if len(names) != 3:\n",
        "    print(\"Please enter exactly three names separated by spaces.\")\n",
        "else:\n",
        "    # Print the names in reverse order\n",
        "    for name in reversed(names):\n",
        "        print(name)\n"
      ],
      "metadata": {
        "colab": {
          "base_uri": "https://localhost:8080/"
        },
        "id": "YK8l0pYOvr89",
        "outputId": "87dfe4eb-ddea-4abb-fd29-d6dfe719c177"
      },
      "execution_count": 33,
      "outputs": [
        {
          "output_type": "stream",
          "name": "stdout",
          "text": [
            "Enter three names separated by a space: Ram Laxman Bharath\n",
            "Bharath\n",
            "Laxman\n",
            "Ram\n"
          ]
        }
      ]
    },
    {
      "cell_type": "markdown",
      "source": [
        "Initialize a dictionary that contains an emotion for the key and an ASCII emoticon for the value. You can find a list of emoticons here: https://en.wikipedia.org/wiki/List_of_emoticons. Prompt the user for an emotion (the key) and print the corresponding emoticon (the value). If the key does not exist then print N/A. You will only need to use a method on dictionary types to do this.\n",
        "Example Input and Output Run 1:\n",
        "\n",
        "Enter an Emote: peek-a-boo\n",
        "(>_<) <(0 o 0)>\n",
        "Run 2:\n",
        "\n",
        "Enter an Emote: abcdef\n",
        "N/A\n",
        "Make sure to have at least 5 entries in the dictionary."
      ],
      "metadata": {
        "id": "CWr8KEEpvV-e"
      }
    },
    {
      "cell_type": "code",
      "source": [
        "emoticon_dict={}\n",
        "def add_emoticon(emotion, emoticon):\n",
        "    emoticon_dict[emotion] = emoticon\n",
        "    print(f\"Emoticon for {emotion} added successfully.\")\n",
        "\n",
        "def get_emoticon(emotion):\n",
        "    if emotion in emoticon_dict:\n",
        "        return emoticon_dict[emotion]\n",
        "    else:\n",
        "        return \"N/A\"\n",
        "# Function to display the menu\n",
        "def display_menu():\n",
        "    print(\"\\nEmoticon dict Menu\")\n",
        "    print(\"1. Add emoticon\")\n",
        "    print(\"2. Get em0ticon\")\n",
        "    print(\"3. Exit\")\n",
        "\n",
        "# Main program loop\n",
        "while True:\n",
        "    display_menu()\n",
        "    choice = input(\"Enter your choice: \")\n",
        "\n",
        "    if choice == '1':\n",
        "        emotion = input(\"Enter emotion: \")\n",
        "        emoticon = input(\"Enter emoticon: \")\n",
        "\n",
        "    elif choice == '2':\n",
        "        emotion = input(\"Enter emotion: \")\n",
        "        result = get_emoticon(emotion)\n",
        "\n",
        "\n",
        "        if result:\n",
        "            print(f\"Emoticon for {emotion}  is {emoticon}\")\n",
        "        else:\n",
        "            print(f\"No emoticon for {emotion}  \")\n",
        "    elif choice == '3':\n",
        "        print(\"Exiting emoticon dict. Goodbye!\")\n",
        "        break\n",
        "    else:\n",
        "        print(\"Invalid choice. Please try again.\")\n",
        "\n"
      ],
      "metadata": {
        "colab": {
          "base_uri": "https://localhost:8080/"
        },
        "id": "_vT-z2BwwrWT",
        "outputId": "e9619372-ab57-4b12-8eb2-7cd0a406c422"
      },
      "execution_count": 34,
      "outputs": [
        {
          "output_type": "stream",
          "name": "stdout",
          "text": [
            "\n",
            "Emoticon dict Menu\n",
            "1. Add emoticon\n",
            "2. Get em0ticon\n",
            "3. Exit\n",
            "Enter your choice: 1\n",
            "Enter emotion: smiley\n",
            "Enter emoticon: :)\n",
            "\n",
            "Emoticon dict Menu\n",
            "1. Add emoticon\n",
            "2. Get em0ticon\n",
            "3. Exit\n",
            "Enter your choice: 1\n",
            "Enter emotion: sad\n",
            "Enter emoticon: :(\n",
            "\n",
            "Emoticon dict Menu\n",
            "1. Add emoticon\n",
            "2. Get em0ticon\n",
            "3. Exit\n",
            "Enter your choice: 1\n",
            "Enter emotion: laughter\n",
            "Enter emoticon: :D\n",
            "\n",
            "Emoticon dict Menu\n",
            "1. Add emoticon\n",
            "2. Get em0ticon\n",
            "3. Exit\n",
            "Enter your choice: fun\n",
            "Invalid choice. Please try again.\n",
            "\n",
            "Emoticon dict Menu\n",
            "1. Add emoticon\n",
            "2. Get em0ticon\n",
            "3. Exit\n",
            "Enter your choice: :p\n",
            "Invalid choice. Please try again.\n",
            "\n",
            "Emoticon dict Menu\n",
            "1. Add emoticon\n",
            "2. Get em0ticon\n",
            "3. Exit\n",
            "Enter your choice: peek a boo\n",
            "Invalid choice. Please try again.\n",
            "\n",
            "Emoticon dict Menu\n",
            "1. Add emoticon\n",
            "2. Get em0ticon\n",
            "3. Exit\n",
            "Enter your choice: (>_<) <(0 o 0)>\n",
            "Invalid choice. Please try again.\n",
            "\n",
            "Emoticon dict Menu\n",
            "1. Add emoticon\n",
            "2. Get em0ticon\n",
            "3. Exit\n",
            "Enter your choice: 2\n",
            "Enter emotion: happy\n",
            "Emoticon for happy  is :D\n",
            "\n",
            "Emoticon dict Menu\n",
            "1. Add emoticon\n",
            "2. Get em0ticon\n",
            "3. Exit\n",
            "Enter your choice: 3\n",
            "Exiting emoticon dict. Goodbye!\n"
          ]
        }
      ]
    },
    {
      "cell_type": "markdown",
      "source": [],
      "metadata": {
        "id": "LpcAsaIFzspZ"
      }
    },
    {
      "cell_type": "code",
      "source": [
        "emoticon_dict.items()"
      ],
      "metadata": {
        "id": "erJFICrpzJU-",
        "outputId": "46fec720-872f-42dd-8121-3528f9b5aaba",
        "colab": {
          "base_uri": "https://localhost:8080/"
        }
      },
      "execution_count": 35,
      "outputs": [
        {
          "output_type": "execute_result",
          "data": {
            "text/plain": [
              "dict_items([])"
            ]
          },
          "metadata": {},
          "execution_count": 35
        }
      ]
    },
    {
      "cell_type": "code",
      "source": [
        "emoticon_dict.keys()"
      ],
      "metadata": {
        "colab": {
          "base_uri": "https://localhost:8080/"
        },
        "id": "CtcQVUXvvWVf",
        "outputId": "c416381f-058d-460a-c918-39b50b17ab20"
      },
      "execution_count": 36,
      "outputs": [
        {
          "output_type": "execute_result",
          "data": {
            "text/plain": [
              "dict_keys([])"
            ]
          },
          "metadata": {},
          "execution_count": 36
        }
      ]
    },
    {
      "cell_type": "markdown",
      "source": [
        "Alice has created a steganography program that takes a message and a value and places garbage characters between each of the original characters. Write a program that takes as input the hidden message from a file and a key (a number value). The key is how many characters are between each character that was in the original message. Output the original message. It will help to put the test message on one line in a file for testing.\n",
        "Example Input and Output\n",
        "\n",
        "stego.txt\n",
        "traikuhabqbzijushdsharuu pymwvildnbsspszpd lojfzaeoovv nhjuztjpisjeyegkxsqmrwsttapdl wwkjxiqymywfezguk eecwkyzmlicounhinupanyv uvwppgcavsbeslbmrtwixal wphdmtdugwmhgoczaidedimstzgkz tmbqwtpkhlvhghvzheixbjonkwaea uugwnyukghioipzdjuakmcd xvhkvhgwxtoahexodvgtrpsemwpjc yggwpahdlid gsuecwctomhodnpdzryepemkqpkstixugwjncbagegnvmpr faucysvbsnrocotmolebwzxucowzetrtzlaiwvrvdoucjognmifal\n",
        "Enter file: stego.txt\n",
        "Enter key: 5\n",
        "Message: This is a test If you get this then you have a working solution"
      ],
      "metadata": {
        "id": "BlP2TV-yzyja"
      }
    },
    {
      "cell_type": "code",
      "source": [
        "with open(filename, 'w') as file:\n",
        "            hidden_message = file.write(\"test\")\n",
        "def extract_message(filename, key):\n",
        "    \"\"\"\n",
        "    Extract the original message from the steganographic message in the file.\n",
        "\n",
        "    :param filename: Name of the file containing the hidden message\n",
        "    :param key: Number of characters between each character of the original message\n",
        "    :return: The extracted original message\n",
        "    \"\"\"\n",
        "    try:\n",
        "        # Read the contents of the file\n",
        "        with open(filename, 'r') as file:\n",
        "            hidden_message = file.read().strip()\n",
        "\n",
        "        # Extract the original message\n",
        "        original_message = hidden_message[::key + 1]\n",
        "\n",
        "        return original_message\n",
        "\n",
        "    except FileNotFoundError:\n",
        "        return \"File not found. Please check the filename and try again.\"\n",
        "\n",
        "# Get input from the user\n",
        "filename = input(\"Enter file: \")\n",
        "key = int(input(\"Enter key: \"))\n",
        "\n",
        "# Extract and print the original message\n",
        "message = extract_message(filename, key)\n",
        "print(f\"Message: {message}\")\n",
        "\n",
        "\n",
        "\n"
      ],
      "metadata": {
        "id": "1dSjTggSzz2H",
        "outputId": "2eb4a845-77ab-4e98-f8df-8c7a2372788a",
        "colab": {
          "base_uri": "https://localhost:8080/"
        }
      },
      "execution_count": 39,
      "outputs": [
        {
          "output_type": "stream",
          "name": "stdout",
          "text": [
            "Enter file: test.out\n",
            "Enter key: 3\n",
            "Message: t\n"
          ]
        }
      ]
    },
    {
      "cell_type": "code",
      "source": [
        "x = input(\"Number 1: \")\n",
        "y = input(\"Number 2: \")\n",
        "print(f\"{x} + {y} = {x + y}\")"
      ],
      "metadata": {
        "id": "fOrAYIQSDct8",
        "outputId": "410db244-28c9-4abb-f98e-f879091ee5bd",
        "colab": {
          "base_uri": "https://localhost:8080/"
        }
      },
      "execution_count": 40,
      "outputs": [
        {
          "output_type": "stream",
          "name": "stdout",
          "text": [
            "Number 1: 3.2\n",
            "Number 2: 3.3\n",
            "3.2 + 3.3 = 3.23.3\n"
          ]
        }
      ]
    },
    {
      "cell_type": "markdown",
      "source": [
        "Alice is attempting to learn Python.  She wrote a program that accepts two numbers and prints the sum of these numbers.  The numbers are in the set of real numbers.  She is having problems, however, and is unsure of how to fix the problem.  She comes to you and asks for your help.\n",
        "\n",
        "Source Code\n",
        "x = input(\"Number 1: \")\n",
        "y = input(\"Number 2: \")\n",
        "print(f\"{x} + {y} = {x + y}\")\n",
        "What type of error is occurring and how would you fix it?"
      ],
      "metadata": {
        "id": "JcJJGyD_DqYG"
      }
    },
    {
      "cell_type": "code",
      "source": [
        "x = float(input(\"Number 1: \"))\n",
        "y = float(input(\"Number 2: \"))\n",
        "print(f\"{x} + {y} = {x + y}\")"
      ],
      "metadata": {
        "id": "_djvBmx6Dsw6",
        "outputId": "3038c740-0e21-45da-b03c-ceb847605cec",
        "colab": {
          "base_uri": "https://localhost:8080/"
        }
      },
      "execution_count": 41,
      "outputs": [
        {
          "output_type": "stream",
          "name": "stdout",
          "text": [
            "Number 1: 3.2\n",
            "Number 2: 3.3\n",
            "3.2 + 3.3 = 6.5\n"
          ]
        }
      ]
    },
    {
      "cell_type": "markdown",
      "source": [
        "Simple note-taking program that  can call from the command line to keep track of various pieces of information.  The note file stores the date and time the note was saved.  But noticed, however, that the file doesn't have a history of previous notes.  Find the problem and explain what the problem is and how to fix it."
      ],
      "metadata": {
        "id": "PH27iEJ6GCts"
      }
    },
    {
      "cell_type": "code",
      "source": [
        "from time import strftime\n",
        "\n",
        "filename = \"notes.txt\"\n",
        "note = None\n",
        "with open(filename, \"w\") as note_file:  # Use append mode instead of write mode\n",
        "    note = input(\"Note: \")\n",
        "    note_file.write(f\"{strftime('%m%d%Y_%H%M%S')}\\n\")\n",
        "    note_file.write(note)\n",
        "    note_file.write(\"\\n\\n\")\n",
        "\n",
        "print(f\"Successfully output to {filename}\")\n",
        "print(note)\n"
      ],
      "metadata": {
        "id": "-GvgWV1wGDFC",
        "outputId": "15329499-43a7-4c4a-dcfc-143b0dcb53e5",
        "colab": {
          "base_uri": "https://localhost:8080/"
        }
      },
      "execution_count": 42,
      "outputs": [
        {
          "output_type": "stream",
          "name": "stdout",
          "text": [
            "Note: test\n",
            "Successfully output to notes.txt\n",
            "test\n"
          ]
        }
      ]
    },
    {
      "cell_type": "markdown",
      "source": [
        "append mode helps in adding notes to the end of the file when opened instead of overwriting the existing content of the file. Hence previous history of notes will be there to look up later."
      ],
      "metadata": {
        "id": "u4nS8yR5MSM-"
      }
    },
    {
      "cell_type": "code",
      "source": [
        "from time import strftime\n",
        "\n",
        "filename = \"notes.txt\"\n",
        "note = None\n",
        "with open(filename, \"a\") as note_file:  # Use append mode instead of write mode\n",
        "    note = input(\"Note: \")\n",
        "    note_file.write(f\"{strftime('%m%d%Y_%H%M%S')}\\n\")\n",
        "    note_file.write(note)\n",
        "    note_file.write(\"\\n\\n\")\n",
        "\n",
        "print(f\"Successfully output to {filename}\")\n",
        "print(note)\n"
      ],
      "metadata": {
        "id": "FCMdhLspMNeQ"
      },
      "execution_count": null,
      "outputs": []
    },
    {
      "cell_type": "markdown",
      "source": [
        "What error is being thrown and how can we fix the program to accept values like 3.5 or 2.71?\n",
        "\n",
        "When prompted enter in two values separated by a space and press ENTER.  Example-> 3.5 2.71\n",
        "\n",
        "X Y coordinate for Vector: 3 4\n",
        "\n",
        "Source Code\n",
        "from math import sqrt\n",
        "\n",
        "class Vector2:\n",
        "    def __init__(self, x, y):\n",
        "        self.X = x\n",
        "        self.Y = y\n",
        "        self.mag = self.magnitude()\n",
        "\n",
        "    def magnitude(self):\n",
        "        return sqrt(self.X ** 2 + self.Y ** 2)\n",
        "\n",
        "    def normalize(self):\n",
        "        return Vector2(self.X/self.mag, self.Y/self.mag)\n",
        "\n",
        "    def __str__(self):\n",
        "        return f\"({self.X}, {self.Y})\"\n",
        "\n",
        "coord = input(\"X Y coordinate for Vector: \")\n",
        "x, y = map(int, coord.split(\" \"))\n",
        "v = Vector2(x, y)\n",
        "print(v)\n",
        "\n",
        "print(\"The normalization of the vectors is\")\n",
        "print(v.normalize())\n",
        "\n",
        "What type of error is occurring and how would you fix it?"
      ],
      "metadata": {
        "id": "iv0yrv0THxLL"
      }
    },
    {
      "cell_type": "markdown",
      "source": [
        "Value error/ casting error occurred here. To accept real numbers float type has to be used instead of int."
      ],
      "metadata": {
        "id": "LZM1khUJN-tV"
      }
    },
    {
      "cell_type": "code",
      "source": [
        "from math import sqrt\n",
        "\n",
        "class Vector2:\n",
        "    def __init__(self, x, y):\n",
        "        self.X = x\n",
        "        self.Y = y\n",
        "        self.mag = self.magnitude()\n",
        "\n",
        "    def magnitude(self):\n",
        "        return sqrt(self.X ** 2 + self.Y ** 2)\n",
        "\n",
        "    def normalize(self):\n",
        "        return Vector2(self.X/self.mag, self.Y/self.mag)\n",
        "\n",
        "    def __str__(self):\n",
        "        return f\"({self.X}, {self.Y})\"\n",
        "\n",
        "coord = input(\"X Y coordinate for Vector: \")\n",
        "x, y = map(float, coord.split(\" \"))  # Use float instead of int to handle decimal values\n",
        "v = Vector2(x, y)\n",
        "print(v)\n",
        "\n",
        "print(\"The normalization of the vectors is\")\n",
        "print(v.normalize())\n"
      ],
      "metadata": {
        "id": "GMV3eA-eHxeq",
        "outputId": "c3853f5f-d557-43e9-c6fd-583d7a13731b",
        "colab": {
          "base_uri": "https://localhost:8080/"
        }
      },
      "execution_count": 48,
      "outputs": [
        {
          "output_type": "stream",
          "name": "stdout",
          "text": [
            "X Y coordinate for Vector: 3.5 2.71\n",
            "(3.5, 2.71)\n",
            "The normalization of the vectors is\n",
            "(0.7906884306763687, 0.6122187563237026)\n"
          ]
        }
      ]
    },
    {
      "cell_type": "code",
      "source": [
        "print(f\"You don't need to manually convert this to a str in Python 3.6 with an F-string: {5}\")"
      ],
      "metadata": {
        "id": "IletCfdL_aWa",
        "outputId": "6c0366b7-ef03-4015-d77e-e0d41a7223f5",
        "colab": {
          "base_uri": "https://localhost:8080/"
        }
      },
      "execution_count": 1,
      "outputs": [
        {
          "output_type": "stream",
          "name": "stdout",
          "text": [
            "You don't need to manually convert this to a str in Python 3.6 with an F-string: 5\n"
          ]
        }
      ]
    },
    {
      "cell_type": "markdown",
      "source": [
        "+++++++++++++++++++++++++++++++++++++THE END++++++++++++++++++++++++++++++++++++++\n"
      ],
      "metadata": {
        "id": "yf6uGLoWOMWd"
      }
    }
  ]
}