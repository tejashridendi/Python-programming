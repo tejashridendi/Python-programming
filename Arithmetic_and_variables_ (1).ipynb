{
  "metadata": {
    "kernelspec": {
      "display_name": "Python 3",
      "language": "python",
      "name": "python3"
    },
    "language_info": {
      "name": "python",
      "version": "3.10.12",
      "mimetype": "text/x-python",
      "codemirror_mode": {
        "name": "ipython",
        "version": 3
      },
      "pygments_lexer": "ipython3",
      "nbconvert_exporter": "python",
      "file_extension": ".py"
    },
    "colab": {
      "provenance": []
    }
  },
  "nbformat_minor": 0,
  "nbformat": 4,
  "cells": [
    {
      "cell_type": "code",
      "source": [
        "print(\"Hello, world!\")\n",
        "\n"
      ],
      "metadata": {
        "execution": {
          "iopub.status.busy": "2023-09-11T12:08:47.588218Z",
          "iopub.execute_input": "2023-09-11T12:08:47.588669Z",
          "iopub.status.idle": "2023-09-11T12:08:47.596563Z",
          "shell.execute_reply.started": "2023-09-11T12:08:47.588644Z",
          "shell.execute_reply": "2023-09-11T12:08:47.595772Z"
        },
        "trusted": true,
        "colab": {
          "base_uri": "https://localhost:8080/"
        },
        "id": "p2_x_thveUIK",
        "outputId": "e005af6d-0aa3-4f92-eaa3-be2a904da848"
      },
      "execution_count": 1,
      "outputs": [
        {
          "output_type": "stream",
          "name": "stdout",
          "text": [
            "Hello, world!\n"
          ]
        }
      ]
    },
    {
      "cell_type": "markdown",
      "source": [
        "\n",
        "\n",
        "\n",
        "- `print(\"Good morning!\")`\n",
        "- `print(\"I am learning how to code :D\")`\n",
        "\n",
        "\n",
        "\n",
        "\n",
        "\n"
      ],
      "metadata": {
        "id": "fqYasqA9eUIL"
      }
    },
    {
      "cell_type": "code",
      "source": [
        "\n",
        "print(\"Good morning!\")\n",
        "print(\"I am learning how to code :D\")\n",
        "print(\"She said \"+\"great job\" +\"and gave me a high-five!\")\n",
        "\n"
      ],
      "metadata": {
        "execution": {
          "iopub.status.busy": "2023-09-11T12:11:55.889659Z",
          "iopub.execute_input": "2023-09-11T12:11:55.889985Z",
          "iopub.status.idle": "2023-09-11T12:11:55.897473Z",
          "shell.execute_reply.started": "2023-09-11T12:11:55.889960Z",
          "shell.execute_reply": "2023-09-11T12:11:55.896616Z"
        },
        "trusted": true,
        "colab": {
          "base_uri": "https://localhost:8080/"
        },
        "id": "lLRSGpLYeUIM",
        "outputId": "f5c03cdd-52cd-44fe-a60d-909a1a19e26b"
      },
      "execution_count": 2,
      "outputs": [
        {
          "output_type": "stream",
          "name": "stdout",
          "text": [
            "Good morning!\n",
            "I am learning how to code :D\n",
            "She said great joband gave me a high-five!\n"
          ]
        }
      ]
    },
    {
      "cell_type": "markdown",
      "source": [
        "\n",
        "```python\n",
        "#print(1+2)\n",
        "```\n",
        "Removing the pound sign will make it so that you can run the code again. When we remove the pound sign in front of a line of code, we call this **uncommenting**.\n",
        "\n",
        "\n"
      ],
      "metadata": {
        "id": "fuBGkNbreUIN"
      }
    },
    {
      "cell_type": "markdown",
      "source": [
        "Define several variables to calculate the total number of seconds in a year."
      ],
      "metadata": {
        "id": "zyvtsMxEeUIQ"
      }
    },
    {
      "cell_type": "code",
      "source": [
        "# Create variables\n",
        "num_years = 4\n",
        "days_per_year = 365\n",
        "hours_per_day = 24\n",
        "mins_per_hour = 60\n",
        "secs_per_min = 60\n",
        "\n",
        "# Calculate number of seconds in four years\n",
        "total_secs = secs_per_min * mins_per_hour * hours_per_day * days_per_year * num_years\n",
        "print(total_secs)"
      ],
      "metadata": {
        "execution": {
          "iopub.status.busy": "2023-09-11T12:14:16.941021Z",
          "iopub.execute_input": "2023-09-11T12:14:16.941362Z",
          "iopub.status.idle": "2023-09-11T12:14:16.946742Z",
          "shell.execute_reply.started": "2023-09-11T12:14:16.941335Z",
          "shell.execute_reply": "2023-09-11T12:14:16.945908Z"
        },
        "trusted": true,
        "colab": {
          "base_uri": "https://localhost:8080/"
        },
        "id": "Jd6D1mwQeUIR",
        "outputId": "5ec5cb3c-8284-4d23-fa10-34403eb349d4"
      },
      "execution_count": 3,
      "outputs": [
        {
          "output_type": "stream",
          "name": "stdout",
          "text": [
            "126144000\n"
          ]
        }
      ]
    },
    {
      "cell_type": "markdown",
      "source": [
        "\n",
        "- Define a variable `births_per_min` and set it to 250.  (There are on average 250 babies born each minute.)\n",
        "- Define a variable `births_per_day` that contains the average number of babies born each day.  "
      ],
      "metadata": {
        "id": "PFuRXEWleUIS"
      }
    },
    {
      "cell_type": "code",
      "source": [
        "#  Set the value of the births_per_min variable\n",
        "births_per_min = 250\n",
        "\n",
        "#  Set the value of the births_per_day variable\n",
        "births_per_day = births_per_min *24*60\n",
        "\n"
      ],
      "metadata": {
        "execution": {
          "iopub.status.busy": "2023-09-11T12:18:12.451386Z",
          "iopub.execute_input": "2023-09-11T12:18:12.451702Z",
          "iopub.status.idle": "2023-09-11T12:18:12.460547Z",
          "shell.execute_reply.started": "2023-09-11T12:18:12.451680Z",
          "shell.execute_reply": "2023-09-11T12:18:12.459427Z"
        },
        "trusted": true,
        "id": "bRAnOPWReUIc"
      },
      "execution_count": 4,
      "outputs": []
    },
    {
      "cell_type": "code",
      "source": [
        "# Load the data from the titanic competition\n",
        "import pandas as pd\n",
        "titanic_data = pd.read_csv(\"../input/titanic/train.csv\")\n",
        "\n",
        "# Show the first five rows of the data\n",
        "titanic_data.head()"
      ],
      "metadata": {
        "execution": {
          "iopub.status.busy": "2023-09-11T12:20:02.856771Z",
          "iopub.execute_input": "2023-09-11T12:20:02.857089Z",
          "iopub.status.idle": "2023-09-11T12:20:02.896016Z",
          "shell.execute_reply.started": "2023-09-11T12:20:02.857064Z",
          "shell.execute_reply": "2023-09-11T12:20:02.895047Z"
        },
        "trusted": true,
        "id": "SldRvTtseUIg",
        "outputId": "c98b0a18-9584-4b2c-f581-e5084ca6e058"
      },
      "execution_count": null,
      "outputs": [
        {
          "execution_count": 10,
          "output_type": "execute_result",
          "data": {
            "text/plain": "   PassengerId  Survived  Pclass  \\\n0            1         0       3   \n1            2         1       1   \n2            3         1       3   \n3            4         1       1   \n4            5         0       3   \n\n                                                Name     Sex   Age  SibSp  \\\n0                            Braund, Mr. Owen Harris    male  22.0      1   \n1  Cumings, Mrs. John Bradley (Florence Briggs Th...  female  38.0      1   \n2                             Heikkinen, Miss. Laina  female  26.0      0   \n3       Futrelle, Mrs. Jacques Heath (Lily May Peel)  female  35.0      1   \n4                           Allen, Mr. William Henry    male  35.0      0   \n\n   Parch            Ticket     Fare Cabin Embarked  \n0      0         A/5 21171   7.2500   NaN        S  \n1      0          PC 17599  71.2833   C85        C  \n2      0  STON/O2. 3101282   7.9250   NaN        S  \n3      0            113803  53.1000  C123        S  \n4      0            373450   8.0500   NaN        S  ",
            "text/html": "<div>\n<style scoped>\n    .dataframe tbody tr th:only-of-type {\n        vertical-align: middle;\n    }\n\n    .dataframe tbody tr th {\n        vertical-align: top;\n    }\n\n    .dataframe thead th {\n        text-align: right;\n    }\n</style>\n<table border=\"1\" class=\"dataframe\">\n  <thead>\n    <tr style=\"text-align: right;\">\n      <th></th>\n      <th>PassengerId</th>\n      <th>Survived</th>\n      <th>Pclass</th>\n      <th>Name</th>\n      <th>Sex</th>\n      <th>Age</th>\n      <th>SibSp</th>\n      <th>Parch</th>\n      <th>Ticket</th>\n      <th>Fare</th>\n      <th>Cabin</th>\n      <th>Embarked</th>\n    </tr>\n  </thead>\n  <tbody>\n    <tr>\n      <th>0</th>\n      <td>1</td>\n      <td>0</td>\n      <td>3</td>\n      <td>Braund, Mr. Owen Harris</td>\n      <td>male</td>\n      <td>22.0</td>\n      <td>1</td>\n      <td>0</td>\n      <td>A/5 21171</td>\n      <td>7.2500</td>\n      <td>NaN</td>\n      <td>S</td>\n    </tr>\n    <tr>\n      <th>1</th>\n      <td>2</td>\n      <td>1</td>\n      <td>1</td>\n      <td>Cumings, Mrs. John Bradley (Florence Briggs Th...</td>\n      <td>female</td>\n      <td>38.0</td>\n      <td>1</td>\n      <td>0</td>\n      <td>PC 17599</td>\n      <td>71.2833</td>\n      <td>C85</td>\n      <td>C</td>\n    </tr>\n    <tr>\n      <th>2</th>\n      <td>3</td>\n      <td>1</td>\n      <td>3</td>\n      <td>Heikkinen, Miss. Laina</td>\n      <td>female</td>\n      <td>26.0</td>\n      <td>0</td>\n      <td>0</td>\n      <td>STON/O2. 3101282</td>\n      <td>7.9250</td>\n      <td>NaN</td>\n      <td>S</td>\n    </tr>\n    <tr>\n      <th>3</th>\n      <td>4</td>\n      <td>1</td>\n      <td>1</td>\n      <td>Futrelle, Mrs. Jacques Heath (Lily May Peel)</td>\n      <td>female</td>\n      <td>35.0</td>\n      <td>1</td>\n      <td>0</td>\n      <td>113803</td>\n      <td>53.1000</td>\n      <td>C123</td>\n      <td>S</td>\n    </tr>\n    <tr>\n      <th>4</th>\n      <td>5</td>\n      <td>0</td>\n      <td>3</td>\n      <td>Allen, Mr. William Henry</td>\n      <td>male</td>\n      <td>35.0</td>\n      <td>0</td>\n      <td>0</td>\n      <td>373450</td>\n      <td>8.0500</td>\n      <td>NaN</td>\n      <td>S</td>\n    </tr>\n  </tbody>\n</table>\n</div>"
          },
          "metadata": {}
        }
      ]
    }
  ]
}