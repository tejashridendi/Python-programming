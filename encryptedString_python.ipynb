{
  "nbformat": 4,
  "nbformat_minor": 0,
  "metadata": {
    "colab": {
      "provenance": []
    },
    "kernelspec": {
      "name": "python3",
      "display_name": "Python 3"
    },
    "language_info": {
      "name": "python"
    }
  },
  "cells": [
    {
      "cell_type": "markdown",
      "source": [
        "In a certain encrypted message which has information about the location(area, city), the characters are jumbled such that the first character of the first word is followed by the first character of the second word, then it is followed by the second character of the first word and so on.\n",
        "\n",
        "\n",
        "\n",
        "In other words, let’s say the location is bandra,mumbai\n",
        "\n",
        "\n",
        "\n",
        "The encrypted message says ‘amiurmoblaii’.\n",
        "\n",
        "\n",
        "\n",
        "Sample Input:\n",
        "\n",
        "amiurmoblaii\n",
        "\n",
        "\n",
        "\n",
        "Sample Output:\n",
        "\n",
        "airoli,mumbai\n",
        "\n",
        "\n",
        "\n",
        "Let’s say the size or length of the two words wouldn’t match, then the smaller word is appended with # and then encrypted in the above format.\n",
        "\n",
        "\n",
        "\n",
        "With this in mind, write a code to identify the right location and print it as place, city."
      ],
      "metadata": {
        "id": "EhOOjjk2KSv9"
      }
    },
    {
      "cell_type": "code",
      "source": [
        "#import ast,sys\n",
        "#input_str = sys.stdin.read()\n",
        "input_str = input(\"Enter a string: \")\n",
        "#Type your code here\n",
        "message1=\"\"\n",
        "message2=\"\"\n",
        "for i in range(0,len(input_str)):\n",
        "    if i%2==0:\n",
        "        message1=message1+input_str[i]\n",
        "    else:\n",
        "        message2=message2+input_str[i]\n",
        "        \n",
        "print(message1.rstrip(\"#\")+\",\"+message2)"
      ],
      "metadata": {
        "colab": {
          "base_uri": "https://localhost:8080/"
        },
        "id": "rK3vxNREKUe6",
        "outputId": "5b6cb427-0031-4fb3-c0fd-cbe541c82cb8"
      },
      "execution_count": 4,
      "outputs": [
        {
          "output_type": "stream",
          "name": "stdout",
          "text": [
            "Enter a string: amiurmoblaii\n",
            "airoli,mumbai\n"
          ]
        }
      ]
    },
    {
      "cell_type": "code",
      "source": [],
      "metadata": {
        "id": "w2IuVghlKUjS"
      },
      "execution_count": null,
      "outputs": []
    }
  ]
}