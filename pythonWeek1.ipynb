{
 "cells": [
  {
   "cell_type": "code",
   "execution_count": null,
   "id": "65ca5626",
   "metadata": {},
   "outputs": [],
   "source": [
    " \n",
    "\n",
    "Problem 1:\n",
    "\n",
    "Read an integer N. For all non-negative integers i < N, print i^2. See the sample for details\n",
    "\n",
    "Input Format: The first and only line contains the integer, N\n",
    "\n",
    "Output Format: Print N lines, one corresponding to each i.\n",
    "\n",
    "Sample input: 5\n",
    "\n",
    "Sample output :  [0, 1, 4, 9, 16]\n",
    "\n",
    "\n",
    "Sample input: 4\n",
    "\n",
    "Sample output: [0, 1, 4, 9]\n"
   ]
  },
  {
   "cell_type": "code",
   "execution_count": 6,
   "id": "07acb7ae",
   "metadata": {},
   "outputs": [
    {
     "name": "stdout",
     "output_type": "stream",
     "text": [
      "5\n",
      "[0, 1, 4, 9, 16]\n"
     ]
    }
   ],
   "source": [
    "def n_items(n):\n",
    "    sqs = []\n",
    "    # Your code here, the output variable will be \"output\"\n",
    "    for i in range(0,n):\n",
    "        sqs.append(i*i)\n",
    "    # Your code ends here\n",
    "    return sqs\n",
    "\n",
    "n = int(input())\n",
    "print(n_items(n))"
   ]
  },
  {
   "cell_type": "code",
   "execution_count": null,
   "id": "d3565bc5",
   "metadata": {},
   "outputs": [],
   "source": [
    "Problem 2:\n",
    "\n",
    "You have given a string. You need to remove all the duplicates from the string.\n",
    "\n",
    "The final output string should contain each character only once. The respective order    of the characters \n",
    "inside the string should remain the same.\n",
    "\n",
    "You can only traverse the string at once.\n",
    "\n",
    "Sample input: abaabbbacd\n",
    "\n",
    "Output pattern: abcd\n",
    "\n",
    " \n",
    "\n",
    "Sample input: ddeefggh\n",
    "\n",
    "Output pattern: defgh"
   ]
  },
  {
   "cell_type": "code",
   "execution_count": 7,
   "id": "9ac859cc",
   "metadata": {},
   "outputs": [
    {
     "name": "stdout",
     "output_type": "stream",
     "text": [
      "ddeefggh\n",
      "defgh\n"
     ]
    }
   ],
   "source": [
    "def unique_chars(string):\n",
    "    out=''\n",
    "    for i in string:\n",
    "        if i not in out:\n",
    "            out = out + i\n",
    "        \n",
    "        \n",
    "      \n",
    "    # Your code ends here\n",
    "    return out\n",
    "\n",
    "n = input()\n",
    "print(unique_chars(n))"
   ]
  },
  {
   "cell_type": "code",
   "execution_count": null,
   "id": "4d06d754",
   "metadata": {},
   "outputs": [],
   "source": [
    "Problem 3:\n",
    "\n",
    "Write a program to Display numbers from a list using loop\n",
    "\n",
    "Write a program to display only those numbers from a list that satisfy the following conditions\n",
    "\n",
    "The number must be divisible by five\n",
    "If the number is greater than 150, then skip it and move to the next number\n",
    "If the number is greater than 500, then stop the loop\n",
    "Sample input : numbers = 12, 75, 150, 180, 145, 525, 50\n",
    "\n",
    "Sample output : [75, 150, 145]\n",
    "\n",
    " \n",
    "\n",
    "Sample input : numbers = 14, 85, 625, 75\n",
    "\n",
    "Sample output : [85]\n"
   ]
  },
  {
   "cell_type": "code",
   "execution_count": 28,
   "id": "89e5be24",
   "metadata": {},
   "outputs": [
    {
     "name": "stdout",
     "output_type": "stream",
     "text": [
      "12, 75, 150, 180, 145, 525, 50\n",
      "['75', '150', '145']\n"
     ]
    }
   ],
   "source": [
    "def func(inputs):\n",
    "    # Your code here, the output variable will be \"output\"\n",
    "    output=[]\n",
    "    for i in inputs:\n",
    "        \n",
    "        if int(i)%5==0:\n",
    "            \n",
    "                    \n",
    "            if int(i)<500:\n",
    "                output.append(i)\n",
    "                \n",
    "                if int(i)>150:\n",
    "                    output.remove(i)\n",
    "                    \n",
    "                \n",
    "           \n",
    "            else:\n",
    "                break;\n",
    "                \n",
    "           \n",
    "    # Your code ends here\n",
    "    return output\n",
    "\n",
    "inputs = input().split(', ')\n",
    "print(func(inputs))\n"
   ]
  },
  {
   "cell_type": "code",
   "execution_count": null,
   "id": "bf0323a8",
   "metadata": {},
   "outputs": [],
   "source": [
    "Problem 4: \n",
    "\n",
    "Write a program to count the total number of digits in a number using a while loop\n",
    "\n",
    "Sample input: 75869\n",
    "\n",
    "Output: 5\n",
    "\n",
    "Sample input: 654\n",
    "\n",
    "Output: 3"
   ]
  },
  {
   "cell_type": "code",
   "execution_count": 6,
   "id": "68a3c57f",
   "metadata": {},
   "outputs": [
    {
     "name": "stdout",
     "output_type": "stream",
     "text": [
      "75\n",
      "2\n"
     ]
    }
   ],
   "source": [
    "def len_input(n):\n",
    "    # Your code here, the output variable will be \"output\"\n",
    "    output=len(n)\n",
    "    # Your code ends here\n",
    "    return output\n",
    "\n",
    "n = input()\n",
    "print(len_input(n))"
   ]
  },
  {
   "cell_type": "code",
   "execution_count": 4,
   "id": "6042d24e",
   "metadata": {},
   "outputs": [
    {
     "name": "stdout",
     "output_type": "stream",
     "text": [
      "75\n",
      "2\n"
     ]
    }
   ],
   "source": [
    "#using while loop\n",
    "\n",
    "def len_input(n):\n",
    "    # Your code here, the output variable will be \"output\" \n",
    "    output=0\n",
    "    num=int(n)\n",
    "    while num != 0:\n",
    "        num //= 10\n",
    "        output+=1\n",
    "        \n",
    "            \n",
    "    # Your code ends here\n",
    "    return output\n",
    "\n",
    "n = input()\n",
    "print(len_input(n))"
   ]
  },
  {
   "cell_type": "code",
   "execution_count": null,
   "id": "942edc04",
   "metadata": {},
   "outputs": [],
   "source": [
    "Problem 5:\n",
    "\n",
    "Write a program to Find the sum of the series upto n terms\n",
    "\n",
    "Write a program to calculate the sum of series up to n term. \n",
    "For example, if n = 5 the series will become 2 + 22 + 222 + 2222 + 22222 = 24690\n",
    "\n",
    "Sample input : number of terms, n = 5\n",
    "\n",
    "Sample output : 24690\n",
    "\n",
    "Sample input: number of terms, n = 6\n",
    "\n",
    "Sample output: 246912\n"
   ]
  },
  {
   "cell_type": "code",
   "execution_count": 27,
   "id": "35f57261",
   "metadata": {},
   "outputs": [
    {
     "name": "stdout",
     "output_type": "stream",
     "text": [
      "0\n",
      "0\n"
     ]
    }
   ],
   "source": [
    "from math import pow\n",
    "def sum_n(n):\n",
    "    # Your code here, the output variable will be \"output\"\n",
    "    out=[]\n",
    "    for i in range(1,n+1):\n",
    "       \n",
    "        temp=''\n",
    "        for j in range(i):\n",
    "            temp = temp + str(2)\n",
    "            \n",
    "        out.append(int(temp))\n",
    "        \n",
    "    #print(out)\n",
    "    return sum(out)\n",
    "\n",
    "n = int(input())\n",
    "print(sum_n(n))"
   ]
  },
  {
   "cell_type": "code",
   "execution_count": null,
   "id": "a14c40b6",
   "metadata": {},
   "outputs": [],
   "source": [
    "Problem 6:\n",
    "\n",
    "Write a program to Reverse below given numbers without slicing\n",
    "\n",
    "Sample input: 745633\n",
    "\n",
    "Output: 336547\n",
    "\n",
    "Sample input: 65346\n",
    "\n",
    "Output: 64356\n"
   ]
  },
  {
   "cell_type": "code",
   "execution_count": 43,
   "id": "681cec7f",
   "metadata": {},
   "outputs": [
    {
     "name": "stdout",
     "output_type": "stream",
     "text": [
      "745633\n",
      "336547\n"
     ]
    }
   ],
   "source": [
    "def reverse_str(test_str):\n",
    "    # Your code here, the output variable will be \"output\"\n",
    "    out=''\n",
    "    int_input = int(test_str)\n",
    "    for i in range(len(test_str)):\n",
    "        out = out + str(int_input % 10)\n",
    "        int_input = int(int_input / 10)\n",
    "    \n",
    "            \n",
    "    # Your code ends here\n",
    "    \n",
    "    return out\n",
    "test_str = input()\n",
    "print(reverse_str(test_str))"
   ]
  },
  {
   "cell_type": "code",
   "execution_count": 49,
   "id": "cdbd3598",
   "metadata": {},
   "outputs": [
    {
     "name": "stdout",
     "output_type": "stream",
     "text": [
      "234\n",
      "432\n"
     ]
    }
   ],
   "source": [
    "def reverse_str(test_str):\n",
    "    # Your code here, the output variable will be \"output\"\n",
    "    out=\"\"\n",
    "    #int_input = int(test_str)\n",
    "    for i in range(len(test_str),0,-1):\n",
    "        out=out + test_str[i-1]\n",
    "        \n",
    "    \n",
    "            \n",
    "    # Your code ends here\n",
    "    \n",
    "    return out\n",
    "test_str = input()\n",
    "print(reverse_str(test_str))"
   ]
  },
  {
   "cell_type": "code",
   "execution_count": null,
   "id": "789a949c",
   "metadata": {},
   "outputs": [],
   "source": [
    "Problem 7:\n",
    "\n",
    "Write a program to Use a loop to display elements from a given list present at odd index position\n",
    "\n",
    "Sample input: 10, 20, 30, 40, 50, 60, 70, 80, 90, 100\n",
    "\n",
    "Expected output: [20, 40, 60, 80, 100]\n",
    "\n",
    "Sample input: 23, 46, 69, 92, 115\n",
    "\n",
    "Expected output: [46, 92]"
   ]
  },
  {
   "cell_type": "code",
   "execution_count": 1,
   "id": "7228f75b",
   "metadata": {},
   "outputs": [
    {
     "name": "stdout",
     "output_type": "stream",
     "text": [
      " 23, 46, 69, 92, 115\n",
      "['46', '92']\n"
     ]
    }
   ],
   "source": [
    "def func(inputs):\n",
    "    \n",
    "    \n",
    "    # Your code here, the output variable will be \"output\"\n",
    "    output=[]\n",
    "    for i in range(1,len(inputs),2):\n",
    "        output.append(inputs[i])\n",
    "    # Your code ends here\n",
    "    return output\n",
    "\n",
    "inputs = input().split(', ')\n",
    "print(func(inputs))"
   ]
  },
  {
   "cell_type": "code",
   "execution_count": null,
   "id": "1ee25829",
   "metadata": {},
   "outputs": [],
   "source": []
  }
 ],
 "metadata": {
  "kernelspec": {
   "display_name": "Python 3",
   "language": "python",
   "name": "python3"
  },
  "language_info": {
   "codemirror_mode": {
    "name": "ipython",
    "version": 3
   },
   "file_extension": ".py",
   "mimetype": "text/x-python",
   "name": "python",
   "nbconvert_exporter": "python",
   "pygments_lexer": "ipython3",
   "version": "3.6.9"
  }
 },
 "nbformat": 4,
 "nbformat_minor": 5
}
