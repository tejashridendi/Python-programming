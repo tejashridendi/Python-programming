{
  "nbformat": 4,
  "nbformat_minor": 0,
  "metadata": {
    "colab": {
      "provenance": [],
      "authorship_tag": "ABX9TyOMqSH9/KrtWxOxYBrapgbg"
    },
    "kernelspec": {
      "name": "python3",
      "display_name": "Python 3"
    },
    "language_info": {
      "name": "python"
    }
  },
  "cells": [
    {
      "cell_type": "code",
      "execution_count": null,
      "metadata": {
        "id": "Tbb6nITVycP3"
      },
      "outputs": [],
      "source": [
        "class Test:\n",
        "    pass # do nothing operation"
      ]
    },
    {
      "cell_type": "code",
      "source": [
        "class Test:\n",
        "    pass\n",
        "\n",
        "t = Test()\n",
        "isinstance(t, Test)"
      ],
      "metadata": {
        "colab": {
          "base_uri": "https://localhost:8080/"
        },
        "id": "Ig_i05nQyijc",
        "outputId": "ddc7ea41-6465-4365-8675-790072522630"
      },
      "execution_count": null,
      "outputs": [
        {
          "output_type": "execute_result",
          "data": {
            "text/plain": [
              "True"
            ]
          },
          "metadata": {},
          "execution_count": 2
        }
      ]
    },
    {
      "cell_type": "code",
      "source": [
        "class Test:\n",
        "    class_variable = 3\n",
        "\n",
        "t1 = Test()\n",
        "t2 = Test()\n",
        "\n",
        "print(f\"T1 Class Variable: {t1.class_variable}\")\n",
        "print(f\"T2 Class Variable: {t2.class_variable}\")\n",
        "\n",
        "Test.class_variable = 1000\n",
        "\n",
        "print(f\"New T1 Class Variable: {t1.class_variable}\")\n",
        "print(f\"New T2 Class Variable: {t2.class_variable}\")"
      ],
      "metadata": {
        "colab": {
          "base_uri": "https://localhost:8080/"
        },
        "id": "sRpDwt3xypMs",
        "outputId": "d3359eb4-64f9-49ef-ace4-bee5643d85a3"
      },
      "execution_count": null,
      "outputs": [
        {
          "output_type": "stream",
          "name": "stdout",
          "text": [
            "T1 Class Variable: 3\n",
            "T2 Class Variable: 3\n",
            "New T1 Class Variable: 1000\n",
            "New T2 Class Variable: 1000\n"
          ]
        }
      ]
    },
    {
      "cell_type": "code",
      "source": [
        "class Test:\n",
        "    class_variable = 3\n",
        "\n",
        "t = Test()\n",
        "\n",
        "print(\"Before Change\")\n",
        "print(f\"Class variable from class: {Test.class_variable}\")\n",
        "print(f\"Class variable from instance: {t.class_variable}\")\n",
        "\n",
        "t.class_variable = \"Shadowed\"\n",
        "\n",
        "print(\"\\nAfter Change\")\n",
        "print(f\"Class variable from class: {Test.class_variable}\")\n",
        "print(f\"Class variable from instance: {t.class_variable}\")"
      ],
      "metadata": {
        "colab": {
          "base_uri": "https://localhost:8080/"
        },
        "id": "ZRNe2Ck9y1SL",
        "outputId": "18e88423-27bd-4357-a624-ac62bc678b31"
      },
      "execution_count": null,
      "outputs": [
        {
          "output_type": "stream",
          "name": "stdout",
          "text": [
            "Before Change\n",
            "Class variable from class: 3\n",
            "Class variable from instance: 3\n",
            "\n",
            "After Change\n",
            "Class variable from class: 3\n",
            "Class variable from instance: Shadowed\n"
          ]
        }
      ]
    },
    {
      "cell_type": "code",
      "source": [
        "class Test:\n",
        "    class_variable = 3\n",
        "\n",
        "t = Test()\n",
        "\n",
        "print(\"Before Change\")\n",
        "print(f\"Class variable from class: {Test.class_variable}\")\n",
        "print(f\"Class variable from instance: {t.class_variable}\")\n",
        "\n",
        "t.class_variable = \"Shadowed\"\n",
        "\n",
        "print(\"\\nAfter Change\")\n",
        "print(f\"Class variable from class: {Test.class_variable}\")\n",
        "print(f\"Class variable from instance: {t.class_variable}\")\n",
        "\n",
        "del t.class_variable\n",
        "\n",
        "print(\"\\nAfter del statement\")\n",
        "print(f\"Class variable from class: {Test.class_variable}\")\n",
        "print(f\"Class variable from instance: {t.class_variable}\")"
      ],
      "metadata": {
        "colab": {
          "base_uri": "https://localhost:8080/"
        },
        "id": "DYUG7xb1zdAu",
        "outputId": "a8f6dbd8-bc3e-42ff-bcdc-500e4a7d7836"
      },
      "execution_count": null,
      "outputs": [
        {
          "output_type": "stream",
          "name": "stdout",
          "text": [
            "Before Change\n",
            "Class variable from class: 3\n",
            "Class variable from instance: 3\n",
            "\n",
            "After Change\n",
            "Class variable from class: 3\n",
            "Class variable from instance: Shadowed\n",
            "\n",
            "After del statement\n",
            "Class variable from class: 3\n",
            "Class variable from instance: 3\n"
          ]
        }
      ]
    },
    {
      "cell_type": "code",
      "source": [
        "class Test:\n",
        "    def __init__(self, n):\n",
        "        self.instance_variable = n"
      ],
      "metadata": {
        "id": "26VEnUFTz8qx"
      },
      "execution_count": null,
      "outputs": []
    },
    {
      "cell_type": "code",
      "source": [
        "class Test:\n",
        "    def __init__(self, n):\n",
        "        self.instance_variable = n\n",
        "\n",
        "t1 = Test(5)\n",
        "t2 = Test(10)\n",
        "\n",
        "print(f\"T1 Instance Variable: {t1.instance_variable}\")\n",
        "print(f\"T2 Instance Variable: {t2.instance_variable}\")"
      ],
      "metadata": {
        "colab": {
          "base_uri": "https://localhost:8080/"
        },
        "id": "PHmp_3UCz_fe",
        "outputId": "bae12fd2-37dc-43a1-ee8e-ec751fa64535"
      },
      "execution_count": null,
      "outputs": [
        {
          "output_type": "stream",
          "name": "stdout",
          "text": [
            "T1 Instance Variable: 5\n",
            "T2 Instance Variable: 10\n"
          ]
        }
      ]
    },
    {
      "cell_type": "code",
      "source": [
        "class Test:\n",
        "    variable = 1000\n",
        "    def __init__(self, n):\n",
        "        self.variable = n\n",
        "\n",
        "t = Test(10)\n",
        "\n",
        "print(\"Test.variable is\", Test.variable)\n",
        "print(\"t.variable is\", t.variable)"
      ],
      "metadata": {
        "colab": {
          "base_uri": "https://localhost:8080/"
        },
        "id": "gIkJeuxC0M6H",
        "outputId": "99b63553-876a-448f-c502-85a094826496"
      },
      "execution_count": null,
      "outputs": [
        {
          "output_type": "stream",
          "name": "stdout",
          "text": [
            "Test.variable is 1000\n",
            "t.variable is 10\n"
          ]
        }
      ]
    },
    {
      "cell_type": "code",
      "source": [
        "class Test:\n",
        "    variable = \"Hello\"\n",
        "    def __init__(self):\n",
        "        self.variable = 5\n",
        "\n",
        "t = Test\n",
        "print(\"t.variable is\", t.variable)"
      ],
      "metadata": {
        "colab": {
          "base_uri": "https://localhost:8080/"
        },
        "id": "rJPF3MMW0jU5",
        "outputId": "ed224c6b-78fb-4314-96a3-8f32de7e9a6b"
      },
      "execution_count": null,
      "outputs": [
        {
          "output_type": "stream",
          "name": "stdout",
          "text": [
            "t.variable is Hello\n"
          ]
        }
      ]
    },
    {
      "cell_type": "code",
      "source": [
        "class Test:\n",
        "    def __init__(self):\n",
        "        self.stays_around = \"I am alive\"\n",
        "\n",
        "    def print_stuff(self):\n",
        "        will_get_removed = \"I am alive, for now\"\n",
        "        print(will_get_removed)\n",
        "\n",
        "t = Test()\n",
        "print(\"t.stays_around ->\",t.stays_around)\n",
        "\n",
        "t.print_stuff()\n",
        "\n",
        "print(t.will_get_removed) #error"
      ],
      "metadata": {
        "colab": {
          "base_uri": "https://localhost:8080/",
          "height": 211
        },
        "id": "R1T_6QEN0u2N",
        "outputId": "12ba69bb-add1-4438-cc94-ec725cbf191a"
      },
      "execution_count": null,
      "outputs": [
        {
          "output_type": "stream",
          "name": "stdout",
          "text": [
            "t.stays_around -> I am alive\n",
            "I am alive, for now\n"
          ]
        },
        {
          "output_type": "error",
          "ename": "AttributeError",
          "evalue": "'Test' object has no attribute 'will_get_removed'",
          "traceback": [
            "\u001b[0;31m---------------------------------------------------------------------------\u001b[0m",
            "\u001b[0;31mAttributeError\u001b[0m                            Traceback (most recent call last)",
            "\u001b[0;32m<ipython-input-10-3709bfc9b580>\u001b[0m in \u001b[0;36m<cell line: 14>\u001b[0;34m()\u001b[0m\n\u001b[1;32m     12\u001b[0m \u001b[0mt\u001b[0m\u001b[0;34m.\u001b[0m\u001b[0mprint_stuff\u001b[0m\u001b[0;34m(\u001b[0m\u001b[0;34m)\u001b[0m\u001b[0;34m\u001b[0m\u001b[0;34m\u001b[0m\u001b[0m\n\u001b[1;32m     13\u001b[0m \u001b[0;34m\u001b[0m\u001b[0m\n\u001b[0;32m---> 14\u001b[0;31m \u001b[0mprint\u001b[0m\u001b[0;34m(\u001b[0m\u001b[0mt\u001b[0m\u001b[0;34m.\u001b[0m\u001b[0mwill_get_removed\u001b[0m\u001b[0;34m)\u001b[0m \u001b[0;31m#error\u001b[0m\u001b[0;34m\u001b[0m\u001b[0;34m\u001b[0m\u001b[0m\n\u001b[0m",
            "\u001b[0;31mAttributeError\u001b[0m: 'Test' object has no attribute 'will_get_removed'"
          ]
        }
      ]
    },
    {
      "cell_type": "code",
      "source": [
        "class Test:\n",
        "    def method(self, a):\n",
        "        print(a)\n",
        "\n",
        "t = Test()\n",
        "\n",
        "t.method(1) #error but look at message"
      ],
      "metadata": {
        "colab": {
          "base_uri": "https://localhost:8080/"
        },
        "id": "yVt06FST2YkZ",
        "outputId": "b7316287-2fdf-4b4c-c384-0f1fa2faaaa9"
      },
      "execution_count": null,
      "outputs": [
        {
          "output_type": "stream",
          "name": "stdout",
          "text": [
            "1\n"
          ]
        }
      ]
    },
    {
      "cell_type": "code",
      "source": [
        "class Test:\n",
        "    def __init__(self):\n",
        "        self.x = 3\n",
        "\n",
        "    def getX(self):\n",
        "        return self.x\n",
        "\n",
        "    def setX(self, newX):\n",
        "        self.x = newX\n",
        "\n",
        "t = Test()\n",
        "\n",
        "print(f\"Before set:\\nt.getX() -> {t.getX()}\")\n",
        "\n",
        "t.setX(500)\n",
        "\n",
        "print(f\"After set:\\nt.getX() -> {t.getX()}\")"
      ],
      "metadata": {
        "colab": {
          "base_uri": "https://localhost:8080/"
        },
        "id": "UwGXCV792cQK",
        "outputId": "133b89cf-6ff1-476f-a6dc-c3fe2c61548b"
      },
      "execution_count": null,
      "outputs": [
        {
          "output_type": "stream",
          "name": "stdout",
          "text": [
            "Before set:\n",
            "t.getX() -> 3\n",
            "After set:\n",
            "t.getX() -> 500\n"
          ]
        }
      ]
    },
    {
      "cell_type": "code",
      "source": [
        "class Person:\n",
        "    def __init__(self, name, age=0):\n",
        "        self.name = name\n",
        "        self.age = age\n",
        "\n",
        "p1 = Person(\"Sammy\")\n",
        "p2 = Person(\"Brian\", 32)\n",
        "\n",
        "print(f\"P1's name is {p1.name} and age is {p1.age}\")\n",
        "print(f\"P2's name is {p2.name} and age is {p2.age}\")"
      ],
      "metadata": {
        "colab": {
          "base_uri": "https://localhost:8080/"
        },
        "id": "s8tIuhOB21Ev",
        "outputId": "bdbd50db-63ac-4a8d-ead3-67e380f780c9"
      },
      "execution_count": null,
      "outputs": [
        {
          "output_type": "stream",
          "name": "stdout",
          "text": [
            "P1's name is Sammy and age is 0\n",
            "P2's name is Brian and age is 32\n"
          ]
        }
      ]
    },
    {
      "cell_type": "code",
      "source": [
        "class Person:\n",
        "    def __init__(self, name, age):\n",
        "        self.name = name\n",
        "        self.age = age\n",
        "\n",
        "p1 = Person(\"Sammy\")\n",
        "p2 = Person(\"Brian\", 32)\n",
        "\n",
        "print(f\"P1's name is {p1.name} and age is {p1.age}\")\n",
        "print(f\"P2's name is {p2.name} and age is {p2.age}\")"
      ],
      "metadata": {
        "colab": {
          "base_uri": "https://localhost:8080/",
          "height": 211
        },
        "id": "UIgw1xKd3bvK",
        "outputId": "d3a1af70-f1f9-4890-d278-1efc35489aaa"
      },
      "execution_count": null,
      "outputs": [
        {
          "output_type": "error",
          "ename": "TypeError",
          "evalue": "Person.__init__() missing 1 required positional argument: 'age'",
          "traceback": [
            "\u001b[0;31m---------------------------------------------------------------------------\u001b[0m",
            "\u001b[0;31mTypeError\u001b[0m                                 Traceback (most recent call last)",
            "\u001b[0;32m<ipython-input-16-f690fda04014>\u001b[0m in \u001b[0;36m<cell line: 6>\u001b[0;34m()\u001b[0m\n\u001b[1;32m      4\u001b[0m         \u001b[0mself\u001b[0m\u001b[0;34m.\u001b[0m\u001b[0mage\u001b[0m \u001b[0;34m=\u001b[0m \u001b[0mage\u001b[0m\u001b[0;34m\u001b[0m\u001b[0;34m\u001b[0m\u001b[0m\n\u001b[1;32m      5\u001b[0m \u001b[0;34m\u001b[0m\u001b[0m\n\u001b[0;32m----> 6\u001b[0;31m \u001b[0mp1\u001b[0m \u001b[0;34m=\u001b[0m \u001b[0mPerson\u001b[0m\u001b[0;34m(\u001b[0m\u001b[0;34m\"Sammy\"\u001b[0m\u001b[0;34m)\u001b[0m\u001b[0;34m\u001b[0m\u001b[0;34m\u001b[0m\u001b[0m\n\u001b[0m\u001b[1;32m      7\u001b[0m \u001b[0mp2\u001b[0m \u001b[0;34m=\u001b[0m \u001b[0mPerson\u001b[0m\u001b[0;34m(\u001b[0m\u001b[0;34m\"Brian\"\u001b[0m\u001b[0;34m,\u001b[0m \u001b[0;36m32\u001b[0m\u001b[0;34m)\u001b[0m\u001b[0;34m\u001b[0m\u001b[0;34m\u001b[0m\u001b[0m\n\u001b[1;32m      8\u001b[0m \u001b[0;34m\u001b[0m\u001b[0m\n",
            "\u001b[0;31mTypeError\u001b[0m: Person.__init__() missing 1 required positional argument: 'age'"
          ]
        }
      ]
    },
    {
      "cell_type": "code",
      "source": [
        "class Animal:\n",
        "    def __init__(self, name=None):\n",
        "        self.name = name if name else \"Animal\"\n",
        "\n",
        "    def sound(self):\n",
        "        return \"No Sound\"\n",
        "\n",
        "class Duck(Animal):\n",
        "    def __init__(self, name):\n",
        "        # initialize name using superclasses constructor\n",
        "        Animal.__init__(self, name)\n",
        "\n",
        "    # Override method sound\n",
        "    def sound(self):\n",
        "        return \"Quack!\"\n",
        "\n",
        "class Dog(Animal):\n",
        "    def __init__(self, name):\n",
        "        Animal.__init__(self, name)\n",
        "\n",
        "    def sound(self):\n",
        "        return \"Bark!\"\n",
        "\n",
        "# Is a Duck which is also an Animal\n",
        "class Daffy(Duck):\n",
        "    def __init__(self):\n",
        "        Duck.__init__(self, \"Daffy\")\n",
        "\n",
        "    def sound(self):\n",
        "        return super().sound() + \" You're dethpicable.\"\n",
        "\n",
        "animal = Animal()\n",
        "duck = Duck(\"Mallard\")\n",
        "dog = Dog(\"Shadow\")\n",
        "daffy = Daffy()\n",
        "\n",
        "print(f'{animal.name} goes \"{animal.sound()}\"')\n",
        "print(f'{duck.name} goes \"{duck.sound()}\"')\n",
        "print(f'{dog.name} goes \"{dog.sound()}\"')\n",
        "print(f'{daffy.name} goes \"{daffy.sound()}\"')"
      ],
      "metadata": {
        "colab": {
          "base_uri": "https://localhost:8080/"
        },
        "id": "YZnX0mXI3-_m",
        "outputId": "bb30f8ea-8797-4c3a-e50b-790c8a4b7e47"
      },
      "execution_count": null,
      "outputs": [
        {
          "output_type": "stream",
          "name": "stdout",
          "text": [
            "Animal goes \"No Sound\"\n",
            "Mallard goes \"Quack!\"\n",
            "Shadow goes \"Bark!\"\n",
            "Daffy goes \"Quack! You're dethpicable.\"\n"
          ]
        }
      ]
    },
    {
      "cell_type": "code",
      "source": [
        "class A:\n",
        "    pass\n",
        "\n",
        "class B:\n",
        "    pass\n",
        "\n",
        "class C(A, B):\n",
        "    pass\n",
        "\n",
        "c = C()\n",
        "print(isinstance(c, A))\n",
        "print(isinstance(c, B))"
      ],
      "metadata": {
        "colab": {
          "base_uri": "https://localhost:8080/"
        },
        "id": "wM3IS13b4Bhj",
        "outputId": "6c174dc6-6dd1-4595-a2a9-09231743e0b2"
      },
      "execution_count": null,
      "outputs": [
        {
          "output_type": "stream",
          "name": "stdout",
          "text": [
            "True\n",
            "True\n"
          ]
        }
      ]
    },
    {
      "cell_type": "code",
      "source": [
        "class A:\n",
        "    def method(self):\n",
        "        print(\"A\")\n",
        "\n",
        "class B:\n",
        "    def method(self):\n",
        "        print(\"B\")\n",
        "\n",
        "class C(B, A):\n",
        "    pass\n",
        "\n",
        "c = C()\n",
        "c.method()"
      ],
      "metadata": {
        "colab": {
          "base_uri": "https://localhost:8080/"
        },
        "id": "krWafjy33byC",
        "outputId": "8f80e50a-4c24-47f8-8bd9-b93d29c54fdc"
      },
      "execution_count": null,
      "outputs": [
        {
          "output_type": "stream",
          "name": "stdout",
          "text": [
            "B\n"
          ]
        }
      ]
    },
    {
      "cell_type": "code",
      "source": [
        "\"Hello, \" + \"World!\""
      ],
      "metadata": {
        "colab": {
          "base_uri": "https://localhost:8080/",
          "height": 35
        },
        "id": "cIdtdpXi4lCB",
        "outputId": "54a22557-22b4-48ea-e1b5-8832ef622d98"
      },
      "execution_count": null,
      "outputs": [
        {
          "output_type": "execute_result",
          "data": {
            "text/plain": [
              "'Hello, World!'"
            ],
            "application/vnd.google.colaboratory.intrinsic+json": {
              "type": "string"
            }
          },
          "metadata": {},
          "execution_count": 20
        }
      ]
    },
    {
      "cell_type": "code",
      "source": [
        "\"Hello, \".__add__(\"World!\")"
      ],
      "metadata": {
        "colab": {
          "base_uri": "https://localhost:8080/",
          "height": 35
        },
        "id": "HA0_siMF46Ow",
        "outputId": "a08123fb-7ab4-478c-f67f-2fb64e8999f2"
      },
      "execution_count": null,
      "outputs": [
        {
          "output_type": "execute_result",
          "data": {
            "text/plain": [
              "'Hello, World!'"
            ],
            "application/vnd.google.colaboratory.intrinsic+json": {
              "type": "string"
            }
          },
          "metadata": {},
          "execution_count": 21
        }
      ]
    },
    {
      "cell_type": "code",
      "source": [
        "2.__add__(3)"
      ],
      "metadata": {
        "colab": {
          "base_uri": "https://localhost:8080/",
          "height": 106
        },
        "id": "Ltd5KsWP49aS",
        "outputId": "f8e53ad2-9e42-4207-ed37-1b5da19f396b"
      },
      "execution_count": null,
      "outputs": [
        {
          "output_type": "error",
          "ename": "SyntaxError",
          "evalue": "invalid decimal literal (<ipython-input-22-4ba1c06ab832>, line 1)",
          "traceback": [
            "\u001b[0;36m  File \u001b[0;32m\"<ipython-input-22-4ba1c06ab832>\"\u001b[0;36m, line \u001b[0;32m1\u001b[0m\n\u001b[0;31m    2.__add__(3)\u001b[0m\n\u001b[0m     ^\u001b[0m\n\u001b[0;31mSyntaxError\u001b[0m\u001b[0;31m:\u001b[0m invalid decimal literal\n"
          ]
        }
      ]
    },
    {
      "cell_type": "code",
      "source": [
        "(2).__add__(3)"
      ],
      "metadata": {
        "colab": {
          "base_uri": "https://localhost:8080/"
        },
        "id": "XOygKPGe5CAY",
        "outputId": "a340ab78-8936-4492-ace2-2de45585b58b"
      },
      "execution_count": null,
      "outputs": [
        {
          "output_type": "execute_result",
          "data": {
            "text/plain": [
              "5"
            ]
          },
          "metadata": {},
          "execution_count": 23
        }
      ]
    },
    {
      "cell_type": "code",
      "source": [
        "class Vector2D(object):\n",
        "    '''Vector2D object with an x and y value.'''\n",
        "    def __init__(self, x=0, y=0):\n",
        "        self.X = float(x)\n",
        "        self.Y = float(y)\n",
        "\n",
        "    def __add__(self, other):\n",
        "        if isinstance(other, Vector2D):\n",
        "            newX = self.X + other.X\n",
        "            newY = self.Y + other.Y\n",
        "            return Vector2D(newX, newY)\n",
        "        else:\n",
        "            raise ValueError(\"Can only add a vector to another vector.\")\n",
        "\n",
        "    def __sub__(self, other):\n",
        "        if isinstance(other, Vector2D):\n",
        "            newX = self.X - other.X\n",
        "            newY = self.Y - other.Y\n",
        "            return Vector2D(newX, newY)\n",
        "        else:\n",
        "            raise ValueError(\"Can only subtract a vector to another vector.\")\n",
        "\n",
        "    def __mul__(self, scalar):\n",
        "        if isinstance(scalar, (int, float)):\n",
        "            newX = self.X * scalar\n",
        "            newY = self.Y * scalar\n",
        "            return Vector2D(newX, newY)\n",
        "        else:\n",
        "            raise ValueError(\"Can only multiply a vector to a scalar.\")\n",
        "\n",
        "    def __truediv__(self, scalar):\n",
        "        if isinstance(scalar, (int, float)):\n",
        "            newX = self.X / scalar\n",
        "            newY = self.Y / scalar\n",
        "            return Vector2D(newX, newY)\n",
        "        else:\n",
        "            raise ValueError(\"Can only divide a vector to a scalar.\")\n",
        "\n",
        "    def __str__(self):\n",
        "        return \"(X = {}, Y = {})\".format(self.X, self.Y)\n",
        "\n",
        "\n",
        "v1 = Vector2D(2, 3)\n",
        "v2 = Vector2D(7, 2)\n",
        "\n",
        "print(\"Vector 1: {}\".format(v1))\n",
        "print(\"Vector 2: {}\".format(v2))\n",
        "print(\"V1 + V2 = {}\".format(v1 + v2))\n",
        "print(\"V1 - V2 = {}\".format(v1 - v2))\n",
        "print(\"V1 * 3.14 = {}\".format(v1 * 3.14))\n",
        "print(\"V2 / 2 = {}\".format(v2 / 2))\n",
        "print(\"Vector 1: {}\".format(v1))\n",
        "print(\"Vector 2: {}\".format(v2))"
      ],
      "metadata": {
        "colab": {
          "base_uri": "https://localhost:8080/"
        },
        "id": "MVvOMQR55ITM",
        "outputId": "f6d14ba8-99ea-42ae-e13a-e9b166ad608a"
      },
      "execution_count": null,
      "outputs": [
        {
          "output_type": "stream",
          "name": "stdout",
          "text": [
            "Vector 1: (X = 2.0, Y = 3.0)\n",
            "Vector 2: (X = 7.0, Y = 2.0)\n",
            "V1 + V2 = (X = 9.0, Y = 5.0)\n",
            "V1 - V2 = (X = -5.0, Y = 1.0)\n",
            "V1 * 3.14 = (X = 6.28, Y = 9.42)\n",
            "V2 / 2 = (X = 3.5, Y = 1.0)\n",
            "Vector 1: (X = 2.0, Y = 3.0)\n",
            "Vector 2: (X = 7.0, Y = 2.0)\n"
          ]
        }
      ]
    },
    {
      "cell_type": "code",
      "source": [
        "try:\n",
        "    print(\"Trying to open file\")\n",
        "    infile = open(\"fergle\", \"r\")\n",
        "except:\n",
        "    print(\"Error opening file\")\n",
        "else:\n",
        "    print(\"Closing file\")\n",
        "    infile.close()\n",
        "finally:\n",
        "    print(\"Program closing\")"
      ],
      "metadata": {
        "colab": {
          "base_uri": "https://localhost:8080/"
        },
        "id": "u_GDZRfQ5L19",
        "outputId": "cd5e9805-8ceb-48c9-90b3-5ef5c3c4b05b"
      },
      "execution_count": null,
      "outputs": [
        {
          "output_type": "stream",
          "name": "stdout",
          "text": [
            "Trying to open file\n",
            "Error opening file\n",
            "Program closing\n"
          ]
        }
      ]
    },
    {
      "cell_type": "code",
      "source": [
        "try:\n",
        "    print(\"Trying to open file\")\n",
        "    infile = open(\"fergle\", \"r\")\n",
        "except FileNotFoundError:\n",
        "    print(\"The file could not be found for opening\")\n",
        "except:\n",
        "    print(\"Something unpredictable happened and we're not sure.\")\n",
        "else:\n",
        "    print(\"Closing file\")\n",
        "    infile.close()\n",
        "finally:\n",
        "    print(\"Program closing\")"
      ],
      "metadata": {
        "colab": {
          "base_uri": "https://localhost:8080/"
        },
        "id": "cVNB9PUp5y1F",
        "outputId": "0403298b-9c81-48a9-c7d3-4976455d067a"
      },
      "execution_count": null,
      "outputs": [
        {
          "output_type": "stream",
          "name": "stdout",
          "text": [
            "Trying to open file\n",
            "The file could not be found for opening\n",
            "Program closing\n"
          ]
        }
      ]
    },
    {
      "cell_type": "code",
      "source": [
        "try:\n",
        "    print(\"Trying to open file\")\n",
        "    infile = open(\"fergle\", \"r\")\n",
        "except FileNotFoundError as fnfe:\n",
        "    print(fnfe)\n",
        "    print(\"The file could not be found for opening\")\n",
        "except:\n",
        "    print(\"Something unpredictable happened and we're not sure.\")\n",
        "else:\n",
        "    print(\"Closing file\")\n",
        "    infile.close()\n",
        "finally:\n",
        "    print(\"Program closing\")"
      ],
      "metadata": {
        "colab": {
          "base_uri": "https://localhost:8080/"
        },
        "id": "c6po9ybF6QiN",
        "outputId": "59cefe63-e4c5-4c2b-fb13-8daf9b55d6d0"
      },
      "execution_count": null,
      "outputs": [
        {
          "output_type": "stream",
          "name": "stdout",
          "text": [
            "Trying to open file\n",
            "[Errno 2] No such file or directory: 'fergle'\n",
            "The file could not be found for opening\n",
            "Program closing\n"
          ]
        }
      ]
    },
    {
      "cell_type": "code",
      "source": [
        "3 / 0\n"
      ],
      "metadata": {
        "colab": {
          "base_uri": "https://localhost:8080/",
          "height": 141
        },
        "id": "AIuFdctR6Wwl",
        "outputId": "860705ef-aaf4-42c2-bf27-a84cf23d9c0c"
      },
      "execution_count": null,
      "outputs": [
        {
          "output_type": "error",
          "ename": "ZeroDivisionError",
          "evalue": "division by zero",
          "traceback": [
            "\u001b[0;31m---------------------------------------------------------------------------\u001b[0m",
            "\u001b[0;31mZeroDivisionError\u001b[0m                         Traceback (most recent call last)",
            "\u001b[0;32m<ipython-input-28-e1965806ec03>\u001b[0m in \u001b[0;36m<cell line: 1>\u001b[0;34m()\u001b[0m\n\u001b[0;32m----> 1\u001b[0;31m \u001b[0;36m3\u001b[0m \u001b[0;34m/\u001b[0m \u001b[0;36m0\u001b[0m\u001b[0;34m\u001b[0m\u001b[0;34m\u001b[0m\u001b[0m\n\u001b[0m",
            "\u001b[0;31mZeroDivisionError\u001b[0m: division by zero"
          ]
        }
      ]
    },
    {
      "cell_type": "code",
      "source": [
        "try:\n",
        "    3 / 0\n",
        "except BaseException as exc:\n",
        "    print(exc)"
      ],
      "metadata": {
        "colab": {
          "base_uri": "https://localhost:8080/"
        },
        "id": "JT4MF5nU7glE",
        "outputId": "1214883e-5aa4-4f40-a541-b9ecfcacb3dc"
      },
      "execution_count": null,
      "outputs": [
        {
          "output_type": "stream",
          "name": "stdout",
          "text": [
            "division by zero\n"
          ]
        }
      ]
    },
    {
      "cell_type": "code",
      "source": [
        "try:\n",
        "    3 / 0\n",
        "except ZeroDivisionError as zde:\n",
        "    print(zde)"
      ],
      "metadata": {
        "colab": {
          "base_uri": "https://localhost:8080/"
        },
        "id": "yUnlbPAb7kBb",
        "outputId": "c50d1da9-7899-4b3b-83e0-9eb88a3f231f"
      },
      "execution_count": null,
      "outputs": [
        {
          "output_type": "stream",
          "name": "stdout",
          "text": [
            "division by zero\n"
          ]
        }
      ]
    },
    {
      "cell_type": "code",
      "source": [
        "from sys import exit\n",
        "\n",
        "while True:\n",
        "    try:\n",
        "        input(\"Press ENTER to open file\")\n",
        "        infile = open(\"fergle.in\", \"r\")\n",
        "    except (IOError, KeyboardInterrupt) as err:\n",
        "        if isinstance(err, IOError):\n",
        "            print(\"File not found\")\n",
        "        elif isinstance(err, KeyboardInterrupt):\n",
        "            print(\"\\nExitting program...\")\n",
        "            exit()\n",
        "    except EOFError:\n",
        "        pass\n",
        "    else:\n",
        "        infile.close()"
      ],
      "metadata": {
        "colab": {
          "base_uri": "https://localhost:8080/",
          "height": 1000
        },
        "id": "dhe9qeSw7oCb",
        "outputId": "a887e17d-726f-4214-81a6-6207c057ca7e"
      },
      "execution_count": null,
      "outputs": [
        {
          "output_type": "stream",
          "name": "stdout",
          "text": [
            "Press ENTER to open file\n",
            "File not found\n",
            "Press ENTER to open filen\n",
            "File not found\n",
            "Press ENTER to open filey\n",
            "File not found\n"
          ]
        },
        {
          "output_type": "stream",
          "name": "stderr",
          "text": [
            "ERROR:root:Internal Python error in the inspect module.\n",
            "Below is the traceback from this internal error.\n",
            "\n"
          ]
        },
        {
          "output_type": "stream",
          "name": "stdout",
          "text": [
            "\n",
            "Exitting program...\n",
            "Traceback (most recent call last):\n",
            "  File \"<ipython-input-32-97ed9d6e54ff>\", line 5, in <cell line: 3>\n",
            "    input(\"Press ENTER to open file\")\n",
            "  File \"/usr/local/lib/python3.10/dist-packages/ipykernel/kernelbase.py\", line 851, in raw_input\n",
            "    return self._input_request(str(prompt),\n",
            "  File \"/usr/local/lib/python3.10/dist-packages/ipykernel/kernelbase.py\", line 895, in _input_request\n",
            "    raise KeyboardInterrupt(\"Interrupted by user\") from None\n",
            "KeyboardInterrupt: Interrupted by user\n",
            "\n",
            "During handling of the above exception, another exception occurred:\n",
            "\n",
            "Traceback (most recent call last):\n",
            "  File \"/usr/local/lib/python3.10/dist-packages/IPython/core/interactiveshell.py\", line 3553, in run_code\n",
            "    exec(code_obj, self.user_global_ns, self.user_ns)\n",
            "  File \"<ipython-input-32-97ed9d6e54ff>\", line 12, in <cell line: 3>\n",
            "    exit()\n",
            "SystemExit\n",
            "\n",
            "During handling of the above exception, another exception occurred:\n",
            "\n",
            "Traceback (most recent call last):\n",
            "  File \"/usr/local/lib/python3.10/dist-packages/IPython/core/ultratb.py\", line 1101, in get_records\n",
            "    return _fixed_getinnerframes(etb, number_of_lines_of_context, tb_offset)\n",
            "  File \"/usr/local/lib/python3.10/dist-packages/IPython/core/ultratb.py\", line 248, in wrapped\n",
            "    return f(*args, **kwargs)\n",
            "  File \"/usr/local/lib/python3.10/dist-packages/IPython/core/ultratb.py\", line 281, in _fixed_getinnerframes\n",
            "    records = fix_frame_records_filenames(inspect.getinnerframes(etb, context))\n",
            "  File \"/usr/lib/python3.10/inspect.py\", line 1662, in getinnerframes\n",
            "    frameinfo = (tb.tb_frame,) + getframeinfo(tb, context)\n",
            "AttributeError: 'tuple' object has no attribute 'tb_frame'\n"
          ]
        },
        {
          "output_type": "error",
          "ename": "TypeError",
          "evalue": "object of type 'NoneType' has no len()",
          "traceback": [
            "\u001b[0;31m---------------------------------------------------------------------------\u001b[0m",
            "\u001b[0;31mKeyboardInterrupt\u001b[0m                         Traceback (most recent call last)",
            "\u001b[0;32m<ipython-input-32-97ed9d6e54ff>\u001b[0m in \u001b[0;36m<cell line: 3>\u001b[0;34m()\u001b[0m\n\u001b[1;32m      4\u001b[0m     \u001b[0;32mtry\u001b[0m\u001b[0;34m:\u001b[0m\u001b[0;34m\u001b[0m\u001b[0;34m\u001b[0m\u001b[0m\n\u001b[0;32m----> 5\u001b[0;31m         \u001b[0minput\u001b[0m\u001b[0;34m(\u001b[0m\u001b[0;34m\"Press ENTER to open file\"\u001b[0m\u001b[0;34m)\u001b[0m\u001b[0;34m\u001b[0m\u001b[0;34m\u001b[0m\u001b[0m\n\u001b[0m\u001b[1;32m      6\u001b[0m         \u001b[0minfile\u001b[0m \u001b[0;34m=\u001b[0m \u001b[0mopen\u001b[0m\u001b[0;34m(\u001b[0m\u001b[0;34m\"fergle.in\"\u001b[0m\u001b[0;34m,\u001b[0m \u001b[0;34m\"r\"\u001b[0m\u001b[0;34m)\u001b[0m\u001b[0;34m\u001b[0m\u001b[0;34m\u001b[0m\u001b[0m\n",
            "\u001b[0;32m/usr/local/lib/python3.10/dist-packages/ipykernel/kernelbase.py\u001b[0m in \u001b[0;36mraw_input\u001b[0;34m(self, prompt)\u001b[0m\n\u001b[1;32m    850\u001b[0m             )\n\u001b[0;32m--> 851\u001b[0;31m         return self._input_request(str(prompt),\n\u001b[0m\u001b[1;32m    852\u001b[0m             \u001b[0mself\u001b[0m\u001b[0;34m.\u001b[0m\u001b[0m_parent_ident\u001b[0m\u001b[0;34m,\u001b[0m\u001b[0;34m\u001b[0m\u001b[0;34m\u001b[0m\u001b[0m\n",
            "\u001b[0;32m/usr/local/lib/python3.10/dist-packages/ipykernel/kernelbase.py\u001b[0m in \u001b[0;36m_input_request\u001b[0;34m(self, prompt, ident, parent, password)\u001b[0m\n\u001b[1;32m    894\u001b[0m                 \u001b[0;31m# re-raise KeyboardInterrupt, to truncate traceback\u001b[0m\u001b[0;34m\u001b[0m\u001b[0;34m\u001b[0m\u001b[0m\n\u001b[0;32m--> 895\u001b[0;31m                 \u001b[0;32mraise\u001b[0m \u001b[0mKeyboardInterrupt\u001b[0m\u001b[0;34m(\u001b[0m\u001b[0;34m\"Interrupted by user\"\u001b[0m\u001b[0;34m)\u001b[0m \u001b[0;32mfrom\u001b[0m \u001b[0;32mNone\u001b[0m\u001b[0;34m\u001b[0m\u001b[0;34m\u001b[0m\u001b[0m\n\u001b[0m\u001b[1;32m    896\u001b[0m             \u001b[0;32mexcept\u001b[0m \u001b[0mException\u001b[0m \u001b[0;32mas\u001b[0m \u001b[0me\u001b[0m\u001b[0;34m:\u001b[0m\u001b[0;34m\u001b[0m\u001b[0;34m\u001b[0m\u001b[0m\n",
            "\u001b[0;31mKeyboardInterrupt\u001b[0m: Interrupted by user",
            "\nDuring handling of the above exception, another exception occurred:\n",
            "\u001b[0;31mSystemExit\u001b[0m                                Traceback (most recent call last)",
            "    \u001b[0;31m[... skipping hidden 1 frame]\u001b[0m\n",
            "\u001b[0;32m<ipython-input-32-97ed9d6e54ff>\u001b[0m in \u001b[0;36m<cell line: 3>\u001b[0;34m()\u001b[0m\n\u001b[1;32m     11\u001b[0m             \u001b[0mprint\u001b[0m\u001b[0;34m(\u001b[0m\u001b[0;34m\"\\nExitting program...\"\u001b[0m\u001b[0;34m)\u001b[0m\u001b[0;34m\u001b[0m\u001b[0;34m\u001b[0m\u001b[0m\n\u001b[0;32m---> 12\u001b[0;31m             \u001b[0mexit\u001b[0m\u001b[0;34m(\u001b[0m\u001b[0;34m)\u001b[0m\u001b[0;34m\u001b[0m\u001b[0;34m\u001b[0m\u001b[0m\n\u001b[0m\u001b[1;32m     13\u001b[0m     \u001b[0;32mexcept\u001b[0m \u001b[0mEOFError\u001b[0m\u001b[0;34m:\u001b[0m\u001b[0;34m\u001b[0m\u001b[0;34m\u001b[0m\u001b[0m\n",
            "\u001b[0;31mSystemExit\u001b[0m: ",
            "\nDuring handling of the above exception, another exception occurred:\n",
            "\u001b[0;31mTypeError\u001b[0m                                 Traceback (most recent call last)",
            "    \u001b[0;31m[... skipping hidden 1 frame]\u001b[0m\n",
            "\u001b[0;32m/usr/local/lib/python3.10/dist-packages/IPython/core/interactiveshell.py\u001b[0m in \u001b[0;36mshowtraceback\u001b[0;34m(self, exc_tuple, filename, tb_offset, exception_only, running_compiled_code)\u001b[0m\n\u001b[1;32m   2090\u001b[0m                     stb = ['An exception has occurred, use %tb to see '\n\u001b[1;32m   2091\u001b[0m                            'the full traceback.\\n']\n\u001b[0;32m-> 2092\u001b[0;31m                     stb.extend(self.InteractiveTB.get_exception_only(etype,\n\u001b[0m\u001b[1;32m   2093\u001b[0m                                                                      value))\n\u001b[1;32m   2094\u001b[0m                 \u001b[0;32melse\u001b[0m\u001b[0;34m:\u001b[0m\u001b[0;34m\u001b[0m\u001b[0;34m\u001b[0m\u001b[0m\n",
            "\u001b[0;32m/usr/local/lib/python3.10/dist-packages/IPython/core/ultratb.py\u001b[0m in \u001b[0;36mget_exception_only\u001b[0;34m(self, etype, value)\u001b[0m\n\u001b[1;32m    752\u001b[0m         \u001b[0mvalue\u001b[0m \u001b[0;34m:\u001b[0m \u001b[0mexception\u001b[0m \u001b[0mvalue\u001b[0m\u001b[0;34m\u001b[0m\u001b[0;34m\u001b[0m\u001b[0m\n\u001b[1;32m    753\u001b[0m         \"\"\"\n\u001b[0;32m--> 754\u001b[0;31m         \u001b[0;32mreturn\u001b[0m \u001b[0mListTB\u001b[0m\u001b[0;34m.\u001b[0m\u001b[0mstructured_traceback\u001b[0m\u001b[0;34m(\u001b[0m\u001b[0mself\u001b[0m\u001b[0;34m,\u001b[0m \u001b[0metype\u001b[0m\u001b[0;34m,\u001b[0m \u001b[0mvalue\u001b[0m\u001b[0;34m)\u001b[0m\u001b[0;34m\u001b[0m\u001b[0;34m\u001b[0m\u001b[0m\n\u001b[0m\u001b[1;32m    755\u001b[0m \u001b[0;34m\u001b[0m\u001b[0m\n\u001b[1;32m    756\u001b[0m     \u001b[0;32mdef\u001b[0m \u001b[0mshow_exception_only\u001b[0m\u001b[0;34m(\u001b[0m\u001b[0mself\u001b[0m\u001b[0;34m,\u001b[0m \u001b[0metype\u001b[0m\u001b[0;34m,\u001b[0m \u001b[0mevalue\u001b[0m\u001b[0;34m)\u001b[0m\u001b[0;34m:\u001b[0m\u001b[0;34m\u001b[0m\u001b[0;34m\u001b[0m\u001b[0m\n",
            "\u001b[0;32m/usr/local/lib/python3.10/dist-packages/IPython/core/ultratb.py\u001b[0m in \u001b[0;36mstructured_traceback\u001b[0;34m(self, etype, evalue, etb, tb_offset, context)\u001b[0m\n\u001b[1;32m    627\u001b[0m             \u001b[0mchained_exceptions_tb_offset\u001b[0m \u001b[0;34m=\u001b[0m \u001b[0;36m0\u001b[0m\u001b[0;34m\u001b[0m\u001b[0;34m\u001b[0m\u001b[0m\n\u001b[1;32m    628\u001b[0m             out_list = (\n\u001b[0;32m--> 629\u001b[0;31m                 self.structured_traceback(\n\u001b[0m\u001b[1;32m    630\u001b[0m                     \u001b[0metype\u001b[0m\u001b[0;34m,\u001b[0m \u001b[0mevalue\u001b[0m\u001b[0;34m,\u001b[0m \u001b[0;34m(\u001b[0m\u001b[0metb\u001b[0m\u001b[0;34m,\u001b[0m \u001b[0mchained_exc_ids\u001b[0m\u001b[0;34m)\u001b[0m\u001b[0;34m,\u001b[0m\u001b[0;34m\u001b[0m\u001b[0;34m\u001b[0m\u001b[0m\n\u001b[1;32m    631\u001b[0m                     chained_exceptions_tb_offset, context)\n",
            "\u001b[0;32m/usr/local/lib/python3.10/dist-packages/IPython/core/ultratb.py\u001b[0m in \u001b[0;36mstructured_traceback\u001b[0;34m(self, etype, value, tb, tb_offset, number_of_lines_of_context)\u001b[0m\n\u001b[1;32m   1365\u001b[0m         \u001b[0;32melse\u001b[0m\u001b[0;34m:\u001b[0m\u001b[0;34m\u001b[0m\u001b[0;34m\u001b[0m\u001b[0m\n\u001b[1;32m   1366\u001b[0m             \u001b[0mself\u001b[0m\u001b[0;34m.\u001b[0m\u001b[0mtb\u001b[0m \u001b[0;34m=\u001b[0m \u001b[0mtb\u001b[0m\u001b[0;34m\u001b[0m\u001b[0;34m\u001b[0m\u001b[0m\n\u001b[0;32m-> 1367\u001b[0;31m         return FormattedTB.structured_traceback(\n\u001b[0m\u001b[1;32m   1368\u001b[0m             self, etype, value, tb, tb_offset, number_of_lines_of_context)\n\u001b[1;32m   1369\u001b[0m \u001b[0;34m\u001b[0m\u001b[0m\n",
            "\u001b[0;32m/usr/local/lib/python3.10/dist-packages/IPython/core/ultratb.py\u001b[0m in \u001b[0;36mstructured_traceback\u001b[0;34m(self, etype, value, tb, tb_offset, number_of_lines_of_context)\u001b[0m\n\u001b[1;32m   1265\u001b[0m         \u001b[0;32mif\u001b[0m \u001b[0mmode\u001b[0m \u001b[0;32min\u001b[0m \u001b[0mself\u001b[0m\u001b[0;34m.\u001b[0m\u001b[0mverbose_modes\u001b[0m\u001b[0;34m:\u001b[0m\u001b[0;34m\u001b[0m\u001b[0;34m\u001b[0m\u001b[0m\n\u001b[1;32m   1266\u001b[0m             \u001b[0;31m# Verbose modes need a full traceback\u001b[0m\u001b[0;34m\u001b[0m\u001b[0;34m\u001b[0m\u001b[0m\n\u001b[0;32m-> 1267\u001b[0;31m             return VerboseTB.structured_traceback(\n\u001b[0m\u001b[1;32m   1268\u001b[0m                 \u001b[0mself\u001b[0m\u001b[0;34m,\u001b[0m \u001b[0metype\u001b[0m\u001b[0;34m,\u001b[0m \u001b[0mvalue\u001b[0m\u001b[0;34m,\u001b[0m \u001b[0mtb\u001b[0m\u001b[0;34m,\u001b[0m \u001b[0mtb_offset\u001b[0m\u001b[0;34m,\u001b[0m \u001b[0mnumber_of_lines_of_context\u001b[0m\u001b[0;34m\u001b[0m\u001b[0;34m\u001b[0m\u001b[0m\n\u001b[1;32m   1269\u001b[0m             )\n",
            "\u001b[0;32m/usr/local/lib/python3.10/dist-packages/IPython/core/ultratb.py\u001b[0m in \u001b[0;36mstructured_traceback\u001b[0;34m(self, etype, evalue, etb, tb_offset, number_of_lines_of_context)\u001b[0m\n\u001b[1;32m   1122\u001b[0m         \u001b[0;34m\"\"\"Return a nice text document describing the traceback.\"\"\"\u001b[0m\u001b[0;34m\u001b[0m\u001b[0;34m\u001b[0m\u001b[0m\n\u001b[1;32m   1123\u001b[0m \u001b[0;34m\u001b[0m\u001b[0m\n\u001b[0;32m-> 1124\u001b[0;31m         formatted_exception = self.format_exception_as_a_whole(etype, evalue, etb, number_of_lines_of_context,\n\u001b[0m\u001b[1;32m   1125\u001b[0m                                                                tb_offset)\n\u001b[1;32m   1126\u001b[0m \u001b[0;34m\u001b[0m\u001b[0m\n",
            "\u001b[0;32m/usr/local/lib/python3.10/dist-packages/IPython/core/ultratb.py\u001b[0m in \u001b[0;36mformat_exception_as_a_whole\u001b[0;34m(self, etype, evalue, etb, number_of_lines_of_context, tb_offset)\u001b[0m\n\u001b[1;32m   1080\u001b[0m \u001b[0;34m\u001b[0m\u001b[0m\n\u001b[1;32m   1081\u001b[0m \u001b[0;34m\u001b[0m\u001b[0m\n\u001b[0;32m-> 1082\u001b[0;31m         \u001b[0mlast_unique\u001b[0m\u001b[0;34m,\u001b[0m \u001b[0mrecursion_repeat\u001b[0m \u001b[0;34m=\u001b[0m \u001b[0mfind_recursion\u001b[0m\u001b[0;34m(\u001b[0m\u001b[0morig_etype\u001b[0m\u001b[0;34m,\u001b[0m \u001b[0mevalue\u001b[0m\u001b[0;34m,\u001b[0m \u001b[0mrecords\u001b[0m\u001b[0;34m)\u001b[0m\u001b[0;34m\u001b[0m\u001b[0;34m\u001b[0m\u001b[0m\n\u001b[0m\u001b[1;32m   1083\u001b[0m \u001b[0;34m\u001b[0m\u001b[0m\n\u001b[1;32m   1084\u001b[0m         \u001b[0mframes\u001b[0m \u001b[0;34m=\u001b[0m \u001b[0mself\u001b[0m\u001b[0;34m.\u001b[0m\u001b[0mformat_records\u001b[0m\u001b[0;34m(\u001b[0m\u001b[0mrecords\u001b[0m\u001b[0;34m,\u001b[0m \u001b[0mlast_unique\u001b[0m\u001b[0;34m,\u001b[0m \u001b[0mrecursion_repeat\u001b[0m\u001b[0;34m)\u001b[0m\u001b[0;34m\u001b[0m\u001b[0;34m\u001b[0m\u001b[0m\n",
            "\u001b[0;32m/usr/local/lib/python3.10/dist-packages/IPython/core/ultratb.py\u001b[0m in \u001b[0;36mfind_recursion\u001b[0;34m(etype, value, records)\u001b[0m\n\u001b[1;32m    380\u001b[0m     \u001b[0;31m# first frame (from in to out) that looks different.\u001b[0m\u001b[0;34m\u001b[0m\u001b[0;34m\u001b[0m\u001b[0m\n\u001b[1;32m    381\u001b[0m     \u001b[0;32mif\u001b[0m \u001b[0;32mnot\u001b[0m \u001b[0mis_recursion_error\u001b[0m\u001b[0;34m(\u001b[0m\u001b[0metype\u001b[0m\u001b[0;34m,\u001b[0m \u001b[0mvalue\u001b[0m\u001b[0;34m,\u001b[0m \u001b[0mrecords\u001b[0m\u001b[0;34m)\u001b[0m\u001b[0;34m:\u001b[0m\u001b[0;34m\u001b[0m\u001b[0;34m\u001b[0m\u001b[0m\n\u001b[0;32m--> 382\u001b[0;31m         \u001b[0;32mreturn\u001b[0m \u001b[0mlen\u001b[0m\u001b[0;34m(\u001b[0m\u001b[0mrecords\u001b[0m\u001b[0;34m)\u001b[0m\u001b[0;34m,\u001b[0m \u001b[0;36m0\u001b[0m\u001b[0;34m\u001b[0m\u001b[0;34m\u001b[0m\u001b[0m\n\u001b[0m\u001b[1;32m    383\u001b[0m \u001b[0;34m\u001b[0m\u001b[0m\n\u001b[1;32m    384\u001b[0m     \u001b[0;31m# Select filename, lineno, func_name to track frames with\u001b[0m\u001b[0;34m\u001b[0m\u001b[0;34m\u001b[0m\u001b[0m\n",
            "\u001b[0;31mTypeError\u001b[0m: object of type 'NoneType' has no len()"
          ]
        }
      ]
    },
    {
      "cell_type": "code",
      "source": [
        "class NotAMultipleOfThreeOrFive(Exception):\n",
        "    def __init__(self, message=\"Not a multiple of 3 or 5\"):\n",
        "        Exception.__init__(self, message)\n",
        "\n",
        "def validate_number(num):\n",
        "    if num % 3 != 0 and num % 5 != 0:\n",
        "        raise NotAMultipleOfThreeOrFive\n",
        "\n",
        "for number in range(0, 21):\n",
        "    try:\n",
        "        print(number, end=\" \")\n",
        "        validate_number(number)\n",
        "        print(\"That's a valid number\")\n",
        "    except NotAMultipleOfThreeOrFive:\n",
        "        print(\"That's not a valid number\")"
      ],
      "metadata": {
        "colab": {
          "base_uri": "https://localhost:8080/"
        },
        "id": "VRrDakd68IM5",
        "outputId": "6aec2cd0-773d-42d4-ae53-83a165aa1d88"
      },
      "execution_count": null,
      "outputs": [
        {
          "output_type": "stream",
          "name": "stdout",
          "text": [
            "0 That's a valid number\n",
            "1 That's not a valid number\n",
            "2 That's not a valid number\n",
            "3 That's a valid number\n",
            "4 That's not a valid number\n",
            "5 That's a valid number\n",
            "6 That's a valid number\n",
            "7 That's not a valid number\n",
            "8 That's not a valid number\n",
            "9 That's a valid number\n",
            "10 That's a valid number\n",
            "11 That's not a valid number\n",
            "12 That's a valid number\n",
            "13 That's not a valid number\n",
            "14 That's not a valid number\n",
            "15 That's a valid number\n",
            "16 That's not a valid number\n",
            "17 That's not a valid number\n",
            "18 That's a valid number\n",
            "19 That's not a valid number\n",
            "20 That's a valid number\n"
          ]
        }
      ]
    },
    {
      "cell_type": "code",
      "source": [
        "class MyClass:\n",
        "    def __init__(self, data):\n",
        "        self.data = data\n",
        "\n",
        "    def __len__(self):\n",
        "        # Return the length of the data\n",
        "        return len(self.data)\n",
        "\n",
        "    def __del__(self):\n",
        "        # Cleanup code before the object is destroyed\n",
        "        print(\"Object is being deleted\")\n",
        "\n",
        "    def __getitem__(self, index):\n",
        "        # Return the item at the given index\n",
        "        return self.data[index]\n",
        "\n",
        "# Creating an instance of MyClass\n",
        "obj = MyClass([1, 2, 3, 4, 5])\n",
        "\n",
        "# Using len() on the instance\n",
        "print(len(obj))  # Output: 5\n",
        "\n",
        "# Retrieving an item using []\n",
        "print(obj[2])  # Output: 3\n",
        "\n",
        "# Deleting the instance (this will call the __del__ method)\n",
        "del obj  # Output: Object is being deleted\n",
        "\n"
      ],
      "metadata": {
        "colab": {
          "base_uri": "https://localhost:8080/"
        },
        "id": "TLg-DdXqOxR2",
        "outputId": "f4b04ace-596c-4f46-b322-087037fc9809"
      },
      "execution_count": null,
      "outputs": [
        {
          "output_type": "stream",
          "name": "stdout",
          "text": [
            "5\n",
            "3\n",
            "Object is being deleted\n"
          ]
        }
      ]
    },
    {
      "cell_type": "code",
      "source": [
        "class MyClass:\n",
        "    def __init__(self, value):\n",
        "        self.value = value\n",
        "        self.data = value\n",
        "\n",
        "    def __ge__(self, other):\n",
        "        # Greater than or equal to\n",
        "        return self.value >= other.value\n",
        "    \"\"\"\n",
        "    def __contains__(self, item):\n",
        "        # Membership test\n",
        "        return item in self.data\n",
        "    \"\"\"\n",
        "    def __pow__(self, exponent):\n",
        "        # Power\n",
        "        return self.value ** exponent\n",
        "\n",
        "    def __add__(self, other):\n",
        "        # Concatenation\n",
        "        return self.data + other.data\n",
        "\n",
        "    def __truediv__(self, other):\n",
        "        # Classic division\n",
        "        return self.value / other.value\n",
        "\n",
        "# Creating instances of MyClass\n",
        "obj1 = MyClass(10)\n",
        "obj2 = MyClass(20)\n",
        "\n",
        "# Using >= operator\n",
        "print(obj1 >= obj2)  # Output: False\n",
        "\n",
        "# Using in operator\n",
        "print(1 in obj1)  # Output: True if 1 is in obj1.data\n",
        "\n",
        "# Using ** operator\n",
        "print(obj1 ** 2)  # Output: 100\n",
        "\n",
        "# Using + operator (concatenation)\n",
        "print(obj1 + obj2)  # Output: Concatenation of obj1.data and obj2.data\n",
        "\n",
        "# Using / operator (classic division)\n",
        "print(obj1 / obj2)  # Output: 0.5\n"
      ],
      "metadata": {
        "colab": {
          "base_uri": "https://localhost:8080/",
          "height": 228
        },
        "id": "p6G5W27UVbl0",
        "outputId": "a71e722e-9919-4acb-ed27-f932754cbb14"
      },
      "execution_count": null,
      "outputs": [
        {
          "output_type": "stream",
          "name": "stdout",
          "text": [
            "False\n"
          ]
        },
        {
          "output_type": "error",
          "ename": "TypeError",
          "evalue": "argument of type 'MyClass' is not iterable",
          "traceback": [
            "\u001b[0;31m---------------------------------------------------------------------------\u001b[0m",
            "\u001b[0;31mTypeError\u001b[0m                                 Traceback (most recent call last)",
            "\u001b[0;32m<ipython-input-38-ed5941b83b13>\u001b[0m in \u001b[0;36m<cell line: 34>\u001b[0;34m()\u001b[0m\n\u001b[1;32m     32\u001b[0m \u001b[0;34m\u001b[0m\u001b[0m\n\u001b[1;32m     33\u001b[0m \u001b[0;31m# Using in operator\u001b[0m\u001b[0;34m\u001b[0m\u001b[0;34m\u001b[0m\u001b[0m\n\u001b[0;32m---> 34\u001b[0;31m \u001b[0mprint\u001b[0m\u001b[0;34m(\u001b[0m\u001b[0;36m1\u001b[0m \u001b[0;32min\u001b[0m \u001b[0mobj1\u001b[0m\u001b[0;34m)\u001b[0m  \u001b[0;31m# Output: True if 1 is in obj1.data\u001b[0m\u001b[0;34m\u001b[0m\u001b[0;34m\u001b[0m\u001b[0m\n\u001b[0m\u001b[1;32m     35\u001b[0m \u001b[0;34m\u001b[0m\u001b[0m\n\u001b[1;32m     36\u001b[0m \u001b[0;31m# Using ** operator\u001b[0m\u001b[0;34m\u001b[0m\u001b[0;34m\u001b[0m\u001b[0m\n",
            "\u001b[0;31mTypeError\u001b[0m: argument of type 'MyClass' is not iterable"
          ]
        }
      ]
    },
    {
      "cell_type": "markdown",
      "source": [
        "Modify the __add__ method so that you can add lists and tuples of size 2 to a point object as well. (Hint: isinstance can receive a tuple of types for it’s second parameter like so: isinstance(variable, (in, long, str)))"
      ],
      "metadata": {
        "id": "PE5pTWeAfvRs"
      }
    },
    {
      "cell_type": "code",
      "source": [
        "class Point:\n",
        "    def __init__(self, x=0, y=0):\n",
        "        self.x = x\n",
        "        self.y = y\n",
        "\n",
        "    def __add__(self, other):\n",
        "        if isinstance(other, Point):\n",
        "            newX = self.x + other.x\n",
        "            newY = self.y + other.y\n",
        "        elif isinstance(other, (list, tuple)) and len(other) == 2:\n",
        "            newX = self.x + other[0]\n",
        "            newY = self.y + other[1]\n",
        "        else:\n",
        "            raise TypeError(\"Operand must be a Point, list or tuple of size 2\")\n",
        "        return Point(newX, newY)\n",
        "\n",
        "    def __repr__(self):\n",
        "        return f\"Point({self.x}, {self.y})\"\n",
        "\n",
        "# Example usage\n",
        "p1 = Point(1, 2)\n",
        "p2 = Point(3, 4)\n",
        "\n",
        "# Adding two Point objects\n",
        "p3 = p1 + p2\n",
        "print(p3)  # Output: Point(4, 6)\n",
        "\n",
        "# Adding a Point object with a list\n",
        "p4 = p1 + [5, 6]\n",
        "print(p4)  # Output: Point(6, 8)\n",
        "\n",
        "# Adding a Point object with a tuple\n",
        "p5 = p1 + (7, 8)\n",
        "print(p5)  # Output: Point(8, 10)\n",
        "\n",
        "# Attempting to add a Point object with an invalid type\n",
        "try:\n",
        "    p6 = p1 + \"invalid\"\n",
        "except TypeError as e:\n",
        "    print(e)  # Output: Operand must be a Point, list or tuple of size 2\n"
      ],
      "metadata": {
        "colab": {
          "base_uri": "https://localhost:8080/"
        },
        "id": "mb44_BtrcLed",
        "outputId": "86d72575-c1b0-4000-be39-ccf91591435d"
      },
      "execution_count": null,
      "outputs": [
        {
          "output_type": "stream",
          "name": "stdout",
          "text": [
            "Point(4, 6)\n",
            "Point(6, 8)\n",
            "Point(8, 10)\n",
            "Operand must be a Point, list or tuple of size 2\n"
          ]
        }
      ]
    },
    {
      "cell_type": "markdown",
      "source": [
        "The __add__ method will only allow us to add lists and tuples if the point objects are on the left-hand side. There is another method we need to implement to allow lists and tuples to be added even if the point objects are on the right-hand side. Look at the Data Model in the Python Documentation for the correct method and implement it. The implementation should only contain one line calling the __add__ method of the Point class and returning the result. Include a test in the test code."
      ],
      "metadata": {
        "id": "yLcjIHSdfsdv"
      }
    },
    {
      "cell_type": "code",
      "source": [
        "class Point:\n",
        "    def __init__(self, x=0, y=0):\n",
        "        self.x = x\n",
        "        self.y = y\n",
        "\n",
        "    def __add__(self, other):\n",
        "        if isinstance(other, Point):\n",
        "            newX = self.x + other.x\n",
        "            newY = self.y + other.y\n",
        "        elif isinstance(other, (list, tuple)) and len(other) == 2:\n",
        "            newX = self.x + other[0]\n",
        "            newY = self.y + other[1]\n",
        "        else:\n",
        "            raise TypeError(\"Operand must be a Point, list, or tuple of size 2\")\n",
        "        return Point(newX, newY)\n",
        "\n",
        "    def __radd__(self, other):\n",
        "        # Call the __add__ method for the reversed operation\n",
        "        return self.__add__(other)\n",
        "\n",
        "    def __repr__(self):\n",
        "        return f\"Point({self.x}, {self.y})\"\n",
        "\n",
        "# Example usage\n",
        "p1 = Point(1, 2)\n",
        "p2 = Point(3, 4)\n",
        "\n",
        "# Adding two Point objects\n",
        "p3 = p1 + p2\n",
        "print(p3)  # Output: Point(4, 6)\n",
        "\n",
        "# Adding a Point object with a list\n",
        "p4 = p1 + [5, 6]\n",
        "print(p4)  # Output: Point(6, 8)\n",
        "\n",
        "# Adding a Point object with a tuple\n",
        "p5 = p1 + (7, 8)\n",
        "print(p5)  # Output: Point(8, 10)\n",
        "\n",
        "# Adding a list with a Point object (reversed operands)\n",
        "p6 = [5, 6] + p1\n",
        "print(p6)  # Output: Point(6, 8)\n",
        "\n",
        "# Adding a tuple with a Point object (reversed operands)\n",
        "p7 = (7, 8) + p1\n",
        "print(p7)  # Output: Point(8, 10)\n",
        "\n",
        "# Attempting to add a Point object with an invalid type\n",
        "try:\n",
        "    p8 = p1 + \"invalid\"\n",
        "except TypeError as e:\n",
        "    print(e)  # Output: Operand must be a Point, list, or tuple of size 2\n"
      ],
      "metadata": {
        "colab": {
          "base_uri": "https://localhost:8080/"
        },
        "id": "evb7zy0gdjNS",
        "outputId": "e4b3dc00-db04-4d74-d0da-9cee13afce11"
      },
      "execution_count": null,
      "outputs": [
        {
          "output_type": "stream",
          "name": "stdout",
          "text": [
            "Point(4, 6)\n",
            "Point(6, 8)\n",
            "Point(8, 10)\n",
            "Point(6, 8)\n",
            "Point(8, 10)\n",
            "Operand must be a Point, list, or tuple of size 2\n"
          ]
        }
      ]
    },
    {
      "cell_type": "markdown",
      "source": [
        "Implement a class named Bag with the following attributes:\n",
        "An __init__ method that initializes an attribute contents to an empty list\n",
        "A method named put_in_bag that takes an object of any type and adds it to contents.\n",
        "A __str__ method that returns a string representation of Bag and must be meaningful. (In other words, don’t just return str(contents)) We should be able to pass in a list of our own and have contents be assigned to that list or no list at all and have contents be initialized to an empty list in the __init__ method. Include test code that tests two different Bag objects."
      ],
      "metadata": {
        "id": "DtTP03wzf6s5"
      }
    },
    {
      "cell_type": "code",
      "source": [
        "class Bag:\n",
        "    def __init__(self, initial_contents=None):\n",
        "        if initial_contents is None:\n",
        "            self.contents = []\n",
        "        else:\n",
        "            self.contents = initial_contents\n",
        "\n",
        "    def put_in_bag(self, item):\n",
        "        self.contents.append(item)\n",
        "\n",
        "    def __str__(self):\n",
        "        return f\"Bag with {len(self.contents)} items: {self.contents}\"\n",
        "\n",
        "# Test code\n",
        "bag1 = Bag()\n",
        "bag1.put_in_bag(\"apple\")\n",
        "bag1.put_in_bag(\"banana\")\n",
        "print(bag1)  # Output: Bag with 2 items: ['apple', 'banana']\n",
        "\n",
        "bag2 = Bag([\"notebook\", \"pen\"])\n",
        "bag2.put_in_bag(\"pencil\")\n",
        "print(bag2)  # Output: Bag with 3 items: ['notebook', 'pen', 'pencil']\n",
        "\n",
        "# Additional test to show empty initialization\n",
        "bag3 = Bag()\n",
        "print(bag3)  # Output: Bag with 0 items: []\n"
      ],
      "metadata": {
        "colab": {
          "base_uri": "https://localhost:8080/"
        },
        "id": "apXgLXbfgsOt",
        "outputId": "74d334a0-24e8-4b53-851d-48ae7e3aa25a"
      },
      "execution_count": null,
      "outputs": [
        {
          "output_type": "stream",
          "name": "stdout",
          "text": [
            "Bag with 2 items: ['apple', 'banana']\n",
            "Bag with 3 items: ['notebook', 'pen', 'pencil']\n",
            "Bag with 0 items: []\n"
          ]
        }
      ]
    },
    {
      "cell_type": "markdown",
      "source": [
        "Create an Actor class. In the Actor class implement the following.\n",
        "__init__ method which accepts a name and sets an instance attribute to the name parameter.\n",
        "act method which accepts either another actor or no actor. Raise the NotImplementedError with a message describing the error."
      ],
      "metadata": {
        "id": "Kw2Wu-zphzKe"
      }
    },
    {
      "cell_type": "code",
      "source": [
        "class Actor:\n",
        "    def __init__(self, name):\n",
        "        self.name = name\n",
        "\n",
        "    def act(self, other_actor=None):\n",
        "        raise NotImplementedError(\"The 'act' method must be implemented by subclasses or instances.\")\n",
        "\n",
        "# Test code\n",
        "try:\n",
        "    actor1 = Actor(\"John Doe\")\n",
        "    actor1.act()  # This should raise NotImplementedError\n",
        "except NotImplementedError as e:\n",
        "    print(e)  # Output: The 'act' method must be implemented by subclasses or instances.\n",
        "\n",
        "try:\n",
        "    actor2 = Actor(\"Jane Doe\")\n",
        "    actor2.act(actor1)  # This should also raise NotImplementedError\n",
        "except NotImplementedError as e:\n",
        "    print(e)  # Output: The 'act' method must be implemented by subclasses or instances.\n"
      ],
      "metadata": {
        "colab": {
          "base_uri": "https://localhost:8080/"
        },
        "id": "Z8zrYRuGh0Py",
        "outputId": "e9642e22-a1c1-4c50-cce9-471675a6bbc3"
      },
      "execution_count": null,
      "outputs": [
        {
          "output_type": "stream",
          "name": "stdout",
          "text": [
            "The 'act' method must be implemented by subclasses or instances.\n",
            "The 'act' method must be implemented by subclasses or instances.\n"
          ]
        }
      ]
    },
    {
      "cell_type": "markdown",
      "source": [
        "Create a Robber class that inherits the Actor class. Implement the following.\n",
        "__init__ method accepts a name and passes the name to the parent class.\n",
        "act method accepts either another actor or no actor.\n",
        "If no arguments print the name of the robber “is Sneaking around”.\n",
        "Else If the parameter is not an Actor raise a TypeError with a message describing the error.\n",
        "Else if the other actor is a cop print name of the robber “is running away from” other actors name.\n",
        "Else if the other actor is a pedestrian print name of robber “snatches wallet from“ other actors name.\n",
        "Otherwise print “Ignored”."
      ],
      "metadata": {
        "id": "hl62dd3JitaB"
      }
    },
    {
      "cell_type": "code",
      "source": [
        "class Actor:\n",
        "    def __init__(self, name):\n",
        "        self.name = name\n",
        "\n",
        "    def act(self, other_actor=None):\n",
        "        raise NotImplementedError(\"The 'act' method must be implemented by subclasses or instances.\")\n",
        "\n",
        "class Robber(Actor):\n",
        "    def __init__(self, name):\n",
        "        super().__init__(name)\n",
        "\n",
        "    def act(self, other_actor=None):\n",
        "        if other_actor is None:\n",
        "            print(f\"{self.name} is sneaking around\")\n",
        "        elif not isinstance(other_actor, Actor):\n",
        "            raise TypeError(\"The parameter must be an instance of Actor\")\n",
        "        elif isinstance(other_actor, Cop):\n",
        "            print(f\"{self.name} is running away from {other_actor.name}\")\n",
        "        elif isinstance(other_actor, Pedestrian):\n",
        "            print(f\"{self.name} snatches wallet from {other_actor.name}\")\n",
        "        else:\n",
        "            print(\"Ignored\")\n",
        "\n",
        "class Cop(Actor):\n",
        "    pass\n",
        "\n",
        "class Pedestrian(Actor):\n",
        "    pass\n",
        "\n",
        "# Test code\n",
        "robber = Robber(\"Robber Joe\")\n",
        "cop = Cop(\"Officer Smith\")\n",
        "pedestrian = Pedestrian(\"John Doe\")\n",
        "\n",
        "# Test the act method with no arguments\n",
        "robber.act()  # Output: Robber Joe is sneaking around\n",
        "\n",
        "# Test the act method with a Cop\n",
        "robber.act(cop)  # Output: Robber Joe is running away from Officer Smith\n",
        "\n",
        "# Test the act method with a Pedestrian\n",
        "robber.act(pedestrian)  # Output: Robber Joe snatches wallet from John Doe\n",
        "\n",
        "# Test the act method with an invalid parameter\n",
        "try:\n",
        "    robber.act(\"invalid actor\")\n",
        "except TypeError as e:\n",
        "    print(e)  # Output: The parameter must be an instance of Actor\n",
        "\n",
        "# Test the act method with another type of Actor\n",
        "actor = Actor(\"Random Actor\")\n",
        "robber.act(actor)  # Output: Ignored\n"
      ],
      "metadata": {
        "colab": {
          "base_uri": "https://localhost:8080/"
        },
        "id": "qlGjmsuUiu2L",
        "outputId": "8ffc1a1e-74a8-4929-814b-9df5eeb6570d"
      },
      "execution_count": null,
      "outputs": [
        {
          "output_type": "stream",
          "name": "stdout",
          "text": [
            "Robber Joe is sneaking around\n",
            "Robber Joe is running away from Officer Smith\n",
            "Robber Joe snatches wallet from John Doe\n",
            "The parameter must be an instance of Actor\n",
            "Ignored\n"
          ]
        }
      ]
    },
    {
      "cell_type": "markdown",
      "source": [
        "Create a Cop class that inherits the Actor class. Implement the following.\n",
        "__init__ method accepts a name and passes the name to the parent class.\n",
        "act method accepts either another actor or no actor.\n",
        "If no arguments print the name of the cop “is patrolling the area”.\n",
        "Else If the parameter is not an Actor raise a TypeError with a message describing the error.\n",
        "Else if the other actor is a robber print name of the cop “ is arresting ” other actors name.\n",
        "Else if the other actor is a pedestrian print name of the cop “ greets with a smile “ other actors name.\n",
        "Otherwise print “Ignored”.\n",
        "Create a Pedestrian class that inherits the Actor class. Implement the following.\n",
        "__init__ method accepts a name and passes the name to the parent class.\n",
        "act method accepts either another actor or no actor.\n",
        "If no arguments print the name of the pedestrian “ is walking downtown”.\n",
        "Else If the parameter is not an Actor raise a TypeError with a message describing the error.\n",
        "Else if the other actor is a robber print name of the pedestrian “ is calling the cops on ” other actors name.\n",
        "Else if the other actor is a cop print name of the pedestrian “ greets with a smile “ other actors name.\n",
        "Otherwise print “Ignored”."
      ],
      "metadata": {
        "id": "aMvNjmZ0ltdW"
      }
    },
    {
      "cell_type": "code",
      "source": [
        "class Actor:\n",
        "    def __init__(self, name):\n",
        "        self.name = name\n",
        "\n",
        "    def act(self, other_actor=None):\n",
        "        raise NotImplementedError(\"The 'act' method must be implemented by subclasses or instances.\")\n",
        "\n",
        "class Robber(Actor):\n",
        "    def __init__(self, name):\n",
        "        super().__init__(name)\n",
        "\n",
        "    def act(self, other_actor=None):\n",
        "        if other_actor is None:\n",
        "            print(f\"{self.name} is sneaking around\")\n",
        "        elif not isinstance(other_actor, Actor):\n",
        "            raise TypeError(\"The parameter must be an instance of Actor\")\n",
        "        elif isinstance(other_actor, Cop):\n",
        "            print(f\"{self.name} is running away from {other_actor.name}\")\n",
        "        elif isinstance(other_actor, Pedestrian):\n",
        "            print(f\"{self.name} snatches wallet from {other_actor.name}\")\n",
        "        else:\n",
        "            print(\"Ignored\")\n",
        "\n",
        "class Cop(Actor):\n",
        "    def __init__(self, name):\n",
        "        super().__init__(name)\n",
        "\n",
        "    def act(self, other_actor=None):\n",
        "        if other_actor is None:\n",
        "            print(f\"{self.name} is patrolling the area\")\n",
        "        elif not isinstance(other_actor, Actor):\n",
        "            raise TypeError(\"The parameter must be an instance of Actor\")\n",
        "        elif isinstance(other_actor, Robber):\n",
        "            print(f\"{self.name} is arresting {other_actor.name}\")\n",
        "        elif isinstance(other_actor, Pedestrian):\n",
        "            print(f\"{self.name} greets with a smile {other_actor.name}\")\n",
        "        else:\n",
        "            print(\"Ignored\")\n",
        "\n",
        "class Pedestrian(Actor):\n",
        "    def __init__(self, name):\n",
        "        super().__init__(name)\n",
        "\n",
        "    def act(self, other_actor=None):\n",
        "        if other_actor is None:\n",
        "            print(f\"{self.name} is walking downtown\")\n",
        "        elif not isinstance(other_actor, Actor):\n",
        "            raise TypeError(\"The parameter must be an instance of Actor\")\n",
        "        elif isinstance(other_actor, Robber):\n",
        "            print(f\"{self.name} is calling the cops on {other_actor.name}\")\n",
        "        elif isinstance(other_actor, Cop):\n",
        "            print(f\"{self.name} greets with a smile {other_actor.name}\")\n",
        "        else:\n",
        "            print(\"Ignored\")\n",
        "\n",
        "# Test code\n",
        "robber = Robber(\"Robber Joe\")\n",
        "cop = Cop(\"Officer Smith\")\n",
        "pedestrian = Pedestrian(\"John Doe\")\n",
        "\n",
        "# Test the act method with no arguments\n",
        "cop.act()  # Output: Officer Smith is patrolling the area\n",
        "pedestrian.act()  # Output: John Doe is walking downtown\n",
        "\n",
        "# Test the act method with a Robber\n",
        "cop.act(robber)  # Output: Officer Smith is arresting Robber Joe\n",
        "pedestrian.act(robber)  # Output: John Doe is calling the cops on Robber Joe\n",
        "\n",
        "# Test the act method with a Pedestrian\n",
        "cop.act(pedestrian)  # Output: Officer Smith greets with a smile John Doe\n",
        "pedestrian.act(cop)  # Output: John Doe greets with a smile Officer Smith\n",
        "\n",
        "# Test the act method with an invalid parameter\n",
        "try:\n",
        "    cop.act(\"invalid actor\")\n",
        "except TypeError as e:\n",
        "    print(e)  # Output: The parameter must be an instance of Actor\n",
        "\n",
        "try:\n",
        "    pedestrian.act(\"invalid actor\")\n",
        "except TypeError as e:\n",
        "    print(e)  # Output: The parameter must be an instance of Actor\n",
        "\n",
        "# Test the act method with another type of Actor\n",
        "actor = Actor(\"Random Actor\")\n",
        "cop.act(actor)  # Output: Ignored\n",
        "pedestrian.act(actor)  # Output: Ignored\n"
      ],
      "metadata": {
        "colab": {
          "base_uri": "https://localhost:8080/"
        },
        "id": "Gm5bSsmLlujO",
        "outputId": "4a66bed7-5f95-4264-9603-f5cd5502ad83"
      },
      "execution_count": null,
      "outputs": [
        {
          "output_type": "stream",
          "name": "stdout",
          "text": [
            "Officer Smith is patrolling the area\n",
            "John Doe is walking downtown\n",
            "Officer Smith is arresting Robber Joe\n",
            "John Doe is calling the cops on Robber Joe\n",
            "Officer Smith greets with a smile John Doe\n",
            "John Doe greets with a smile Officer Smith\n",
            "The parameter must be an instance of Actor\n",
            "The parameter must be an instance of Actor\n",
            "Ignored\n",
            "Ignored\n"
          ]
        }
      ]
    },
    {
      "cell_type": "markdown",
      "source": [
        "Create test code to test your methods and input different objects including some that should throw the error. Your test code should show that your code works and takes care of every situation for the objects.\n",
        "\n",
        "Using the code you wrote for problem 3, extend it by adding another Actor of your choosing. Make sure there is an interaction between your actor and the other actors. Also, add a new method for each actor that only belongs that particular actor. So you should create a method for Cop, Robber, Pedestrian, and your own actor that does not show up in any of the other Actor classes. Don’t forget to create test code for your new Actor and methods."
      ],
      "metadata": {
        "id": "wiC7WNEamLx1"
      }
    },
    {
      "cell_type": "code",
      "source": [
        "class Actor:\n",
        "    def __init__(self, name):\n",
        "        self.name = name\n",
        "\n",
        "    def act(self, other_actor=None):\n",
        "        raise NotImplementedError(\"The 'act' method must be implemented by subclasses or instances.\")\n",
        "\n",
        "class Robber(Actor):\n",
        "    def __init__(self, name):\n",
        "        super().__init__(name)\n",
        "\n",
        "    def act(self, other_actor=None):\n",
        "        if other_actor is None:\n",
        "            print(f\"{self.name} is sneaking around\")\n",
        "        elif not isinstance(other_actor, Actor):\n",
        "            raise TypeError(\"The parameter must be an instance of Actor\")\n",
        "        elif isinstance(other_actor, Cop):\n",
        "            print(f\"{self.name} is running away from {other_actor.name}\")\n",
        "        elif isinstance(other_actor, Pedestrian):\n",
        "            print(f\"{self.name} snatches wallet from {other_actor.name}\")\n",
        "        else:\n",
        "            print(\"Ignored\")\n",
        "\n",
        "    def steal(self):\n",
        "        print(f\"{self.name} is stealing\")\n",
        "\n",
        "class Cop(Actor):\n",
        "    def __init__(self, name):\n",
        "        super().__init__(name)\n",
        "\n",
        "    def act(self, other_actor=None):\n",
        "        if other_actor is None:\n",
        "            print(f\"{self.name} is patrolling the area\")\n",
        "        elif not isinstance(other_actor, Actor):\n",
        "            raise TypeError(\"The parameter must be an instance of Actor\")\n",
        "        elif isinstance(other_actor, Robber):\n",
        "            print(f\"{self.name} is arresting {other_actor.name}\")\n",
        "        elif isinstance(other_actor, Pedestrian):\n",
        "            print(f\"{self.name} greets with a smile {other_actor.name}\")\n",
        "        else:\n",
        "            print(\"Ignored\")\n",
        "\n",
        "    def investigate(self):\n",
        "        print(f\"{self.name} is investigating a crime scene\")\n",
        "\n",
        "class Pedestrian(Actor):\n",
        "    def __init__(self, name):\n",
        "        super().__init__(name)\n",
        "\n",
        "    def act(self, other_actor=None):\n",
        "        if other_actor is None:\n",
        "            print(f\"{self.name} is walking downtown\")\n",
        "        elif not isinstance(other_actor, Actor):\n",
        "            raise TypeError(\"The parameter must be an instance of Actor\")\n",
        "        elif isinstance(other_actor, Robber):\n",
        "            print(f\"{self.name} is calling the cops on {other_actor.name}\")\n",
        "        elif isinstance(other_actor, Cop):\n",
        "            print(f\"{self.name} greets with a smile {other_actor.name}\")\n",
        "        else:\n",
        "            print(\"Ignored\")\n",
        "\n",
        "    def shop(self):\n",
        "        print(f\"{self.name} is shopping\")\n",
        "\n",
        "class Doctor(Actor):\n",
        "    def __init__(self, name):\n",
        "        super().__init__(name)\n",
        "\n",
        "    def act(self, other_actor=None):\n",
        "        if other_actor is None:\n",
        "            print(f\"{self.name} is treating patients\")\n",
        "        elif not isinstance(other_actor, Actor):\n",
        "            raise TypeError(\"The parameter must be an instance of Actor\")\n",
        "        elif isinstance(other_actor, Robber):\n",
        "            print(f\"{self.name} is treating injuries of {other_actor.name}\")\n",
        "        elif isinstance(other_actor, Cop):\n",
        "            print(f\"{self.name} is performing a health check on {other_actor.name}\")\n",
        "        elif isinstance(other_actor, Pedestrian):\n",
        "            print(f\"{self.name} is giving first aid to {other_actor.name}\")\n",
        "        else:\n",
        "            print(\"Ignored\")\n",
        "\n",
        "    def diagnose(self):\n",
        "        print(f\"{self.name} is diagnosing a patient\")\n",
        "\n",
        "# Test code\n",
        "robber = Robber(\"Robber Joe\")\n",
        "cop = Cop(\"Officer Smith\")\n",
        "pedestrian = Pedestrian(\"John Doe\")\n",
        "doctor = Doctor(\"Dr. Adams\")\n",
        "\n",
        "# Test the act method with no arguments\n",
        "cop.act()  # Output: Officer Smith is patrolling the area\n",
        "pedestrian.act()  # Output: John Doe is walking downtown\n",
        "doctor.act()  # Output: Dr. Adams is treating patients\n",
        "\n",
        "# Test the act method with a Robber\n",
        "cop.act(robber)  # Output: Officer Smith is arresting Robber Joe\n",
        "pedestrian.act(robber)  # Output: John Doe is calling the cops on Robber Joe\n",
        "doctor.act(robber)  # Output: Dr. Adams is treating injuries of Robber Joe\n",
        "\n",
        "# Test the act method with a Pedestrian\n",
        "cop.act(pedestrian)  # Output: Officer Smith greets with a smile John Doe\n",
        "pedestrian.act(cop)  # Output: John Doe greets with a smile Officer Smith\n",
        "doctor.act(pedestrian)  # Output: Dr. Adams is giving first aid to John Doe\n",
        "\n",
        "# Test the act method with a Cop\n",
        "robber.act(cop)  # Output: Robber Joe is running away from Officer Smith\n",
        "doctor.act(cop)  # Output: Dr. Adams is performing a health check on Officer Smith\n",
        "\n",
        "# Test the act method with a Doctor\n",
        "robber.act(doctor)  # Output: Ignored\n",
        "cop.act(doctor)  # Output: Ignored\n",
        "pedestrian.act(doctor)  # Output: Ignored\n",
        "\n",
        "# Test the act method with an invalid parameter\n",
        "try:\n",
        "    cop.act(\"invalid actor\")\n",
        "except TypeError as e:\n",
        "    print(e)  # Output: The parameter must be an instance of Actor\n",
        "\n",
        "try:\n",
        "    pedestrian.act(\"invalid actor\")\n",
        "except TypeError as e:\n",
        "    print(e)  # Output: The parameter must be an instance of Actor\n",
        "\n",
        "try:\n",
        "    doctor.act(123)\n",
        "except TypeError as e:\n",
        "    print(e)  # Output: The parameter must be an instance of Actor\n",
        "\n",
        "# Test unique methods for each class\n",
        "robber.steal()  # Output: Robber Joe is stealing\n",
        "cop.investigate()  # Output: Officer Smith is investigating a crime scene\n",
        "pedestrian.shop()  # Output: John Doe is shopping\n",
        "doctor.diagnose()  # Output: Dr. Adams is diagnosing a patient\n"
      ],
      "metadata": {
        "colab": {
          "base_uri": "https://localhost:8080/"
        },
        "id": "_KgYVGA0mNcr",
        "outputId": "b6172e80-ad9f-461e-b3f2-5f56248e2d6c"
      },
      "execution_count": null,
      "outputs": [
        {
          "output_type": "stream",
          "name": "stdout",
          "text": [
            "Officer Smith is patrolling the area\n",
            "John Doe is walking downtown\n",
            "Dr. Adams is treating patients\n",
            "Officer Smith is arresting Robber Joe\n",
            "John Doe is calling the cops on Robber Joe\n",
            "Dr. Adams is treating injuries of Robber Joe\n",
            "Officer Smith greets with a smile John Doe\n",
            "John Doe greets with a smile Officer Smith\n",
            "Dr. Adams is giving first aid to John Doe\n",
            "Robber Joe is running away from Officer Smith\n",
            "Dr. Adams is performing a health check on Officer Smith\n",
            "Ignored\n",
            "Ignored\n",
            "Ignored\n",
            "The parameter must be an instance of Actor\n",
            "The parameter must be an instance of Actor\n",
            "The parameter must be an instance of Actor\n",
            "Robber Joe is stealing\n",
            "Officer Smith is investigating a crime scene\n",
            "John Doe is shopping\n",
            "Dr. Adams is diagnosing a patient\n"
          ]
        }
      ]
    },
    {
      "cell_type": "code",
      "source": [
        "class A:\n",
        "    num = 100\n",
        "    def __init__(self):\n",
        "        self.num = 500\n",
        "\n",
        "a = A\n",
        "print(a.num)"
      ],
      "metadata": {
        "colab": {
          "base_uri": "https://localhost:8080/"
        },
        "id": "Tvmyyhf8cFgi",
        "outputId": "26efc271-b72b-4463-e40d-825dc964286c"
      },
      "execution_count": 1,
      "outputs": [
        {
          "output_type": "stream",
          "name": "stdout",
          "text": [
            "100\n"
          ]
        }
      ]
    },
    {
      "cell_type": "code",
      "source": [
        "class Agent:\n",
        "    count = 0\n",
        "\n",
        "    def __init__(self):\n",
        "        count += 1\n",
        "a = Agent\n",
        "print(a.count)"
      ],
      "metadata": {
        "colab": {
          "base_uri": "https://localhost:8080/"
        },
        "id": "ruJAEtsafyBj",
        "outputId": "214451e6-542c-484c-d95a-bb296f2b62bf"
      },
      "execution_count": 2,
      "outputs": [
        {
          "output_type": "stream",
          "name": "stdout",
          "text": [
            "0\n"
          ]
        }
      ]
    },
    {
      "cell_type": "code",
      "source": [
        "class A:\n",
        "    n = 0\n",
        "\n",
        "a = A()\n",
        "b = A()\n",
        "\n",
        "a.n += 1\n",
        "b.n += 1\n",
        "\n",
        "print(a.n)"
      ],
      "metadata": {
        "colab": {
          "base_uri": "https://localhost:8080/"
        },
        "id": "-VxAJibBuFdE",
        "outputId": "753476a0-8947-4172-ce67-2035c031fc07"
      },
      "execution_count": 3,
      "outputs": [
        {
          "output_type": "stream",
          "name": "stdout",
          "text": [
            "1\n"
          ]
        }
      ]
    },
    {
      "cell_type": "code",
      "source": [
        "Bobby is trying to make a chess engine and he's chosen Python because of it's ease of use.  He's created an Abstract Class called Piece from which all other pieces will inherit which contain the base methods all pieces can do and a couple abstract methods that the pieces must implement.  He just starting writing the code and is testing it as he goes.  Unfortunately, he's run into a problem that he is unsure of how to fix.  He comes to you for help.  What is the error and how can we fix the problem?\n",
        "\n",
        "# An abstract class for a chess piece\n",
        "# The method is_valid_move needs to be\n",
        "# implemented for each individual chess\n",
        "# piece since they have different movements\n",
        "class Piece:\n",
        "    def __init__(self, _rank, _file):\n",
        "        self.rank = _rank\n",
        "        self.file = _file\n",
        "\n",
        "    def move_piece(self, new_rank, new_file):\n",
        "        if self.is_valid_move(new_rank, new_file):\n",
        "            self.rank = new_rank\n",
        "            self.file = new_file\n",
        "\n",
        "    def is_valid_move(self, _rank, _file):\n",
        "        raise NotImplementedError\n",
        "\n",
        "if __name__ == \"__main__\":\n",
        "    p = Piece(1, 2)\n",
        "\n",
        "    try:\n",
        "        p.move_piece(2, 2)\n",
        "    except NotImplementedError:\n",
        "        print(\"Abstract class working\")"
      ],
      "metadata": {
        "colab": {
          "base_uri": "https://localhost:8080/"
        },
        "id": "p-sNMQQa__qe",
        "outputId": "4e8fc368-7505-4ceb-bd91-34497e89a149"
      },
      "execution_count": 6,
      "outputs": [
        {
          "output_type": "stream",
          "name": "stdout",
          "text": [
            "Object `problem` not found.\n",
            "Abstract class working\n"
          ]
        }
      ]
    },
    {
      "cell_type": "code",
      "source": [
        "from math import sqrt\n",
        "\n",
        "class Vector3:\n",
        "    def __init__(self, x=0, y=0, z=0):\n",
        "        self.X, self.Y, self.Z = x, y, z\n",
        "        self.mag = self.__mag()\n",
        "\n",
        "    def __mag(self):\n",
        "        return sqrt(self.X ** 2 + self.Y ** 2 + self.Z ** 2)\n",
        "\n",
        "    def __mul__(self, other):\n",
        "        if not isinstance(other, (int, float)):\n",
        "            raise ValueError(f\"Cannot perform multiplication.  {other} is not a scalar or complex.\")\n",
        "        new_x = self.X * other\n",
        "        new_y = self.Y * other\n",
        "        new_z = self.Z * other\n",
        "        return Vector3(new_x, new_y, new_z)\n",
        "\n",
        "    def __sub__(self, other):\n",
        "        if not isinstance(other, Vector3):\n",
        "            raise ValueError(f\"Cannot perform subtraction.  {other} is not of type Vector3.\")\n",
        "        new_x = self.X - other.X\n",
        "        new_y = self.Y - other.Y\n",
        "        new_z = self.Z - other.Z\n",
        "        return Vector3(new_x, new_y, new_z)\n",
        "\n",
        "    def __add__(self, other):\n",
        "        if not isinstance(other, Vector3):\n",
        "            raise ValueError(f\"Cannot perform addition.  {other} is not of type Vector3.\")\n",
        "        new_x = self.X + other.X\n",
        "        new_y = self.Y + other.Y\n",
        "        new_z = self.Z + other.Z\n",
        "        return Vector3(new_x, new_y, new_z)\n",
        "\n",
        "    def normalized(self):\n",
        "        if self.mag == 0.0:\n",
        "            return Vector3()\n",
        "        return Vector3(\n",
        "            self.X / self.mag, self.Y / self.mag, self.Z / self.mag\n",
        "        )\n",
        "\n",
        "    def __str__(self):\n",
        "        return f\"({self.X}, {self.Y}, {self.Z})\"\n",
        "\n",
        "if __name__ == \"__main__\":\n",
        "    v0 = Vector3()\n",
        "    v1 = Vector3(3, 2, 1.5)\n",
        "    v2 = Vector3(4, 7, 10)\n",
        "\n",
        "    print(v0.mag)\n",
        "    print(v0.normalized())\n",
        "    print(f\"v1.mag = {v1.mag}\")\n",
        "    print(f\"v2.mag = {v2.mag}\")\n",
        "    print(f\"v1 + v2 = {v1 + v2}\")\n",
        "    print(f\"v1 - v2 = {v1 - v2}\")\n",
        "    print(f\"v1 * 3.2 = {v1 * 3.2}\")\n",
        "    print(f\"v2 * 2 = {v2 * 2}\")\n",
        "    print(f\"v1 normalized = {v1.normalized()}\")\n",
        "    print(f\"v2 normalized = {v2.normalized()}\")\n"
      ],
      "metadata": {
        "colab": {
          "base_uri": "https://localhost:8080/"
        },
        "id": "vdGLOysRDfdn",
        "outputId": "da0c90e8-ee80-4fbd-f2b2-e486ac45ac3e"
      },
      "execution_count": 10,
      "outputs": [
        {
          "output_type": "stream",
          "name": "stdout",
          "text": [
            "0.0\n",
            "(0, 0, 0)\n",
            "v1.mag = 3.905124837953327\n",
            "v2.mag = 12.84523257866513\n",
            "v1 + v2 = (7, 9, 11.5)\n",
            "v1 - v2 = (-1, -5, -8.5)\n",
            "v1 * 3.2 = (9.600000000000001, 6.4, 4.800000000000001)\n",
            "v2 * 2 = (8, 14, 20)\n",
            "v1 normalized = (0.7682212795973759, 0.5121475197315839, 0.3841106397986879)\n",
            "v2 normalized = (0.3113995776646092, 0.5449492609130661, 0.778498944161523)\n"
          ]
        }
      ]
    },
    {
      "cell_type": "code",
      "source": [
        "from math import sqrt\n",
        "\n",
        "class Vector3:\n",
        "    def __init__(self, x=0, y=0, z=0):\n",
        "        self.X, self.Y, self.Z = x, y, z\n",
        "        self.mag = self.__mag()\n",
        "\n",
        "    def __mag(self):\n",
        "        return sqrt(self.X ** 2 + self.Y ** 2 + self.Z ** 2)\n",
        "\n",
        "    def __mul__(self, other):\n",
        "        if not isinstance(other, (int, float)):\n",
        "            raise ValueError(f\"Cannot perform multiplication.  {other} is not a scalar or complex.\")\n",
        "        new_x = self.X * other\n",
        "        new_y = self.Y * other\n",
        "        new_z = self.Z * other\n",
        "        return Vector3(new_x, new_y, new_z)\n",
        "\n",
        "    def __sub__(self, other):\n",
        "        if not isinstance(other, Vector3):\n",
        "            raise ValueError(f\"Cannot perform subtraction.  {other} is not of type Vector3.\")\n",
        "        new_x = self.X - other.X\n",
        "        new_y = self.Y - other.Y\n",
        "        new_z = self.Z - other.Z\n",
        "        return Vector3(new_x, new_y, new_z)\n",
        "\n",
        "    def __add__(self, other):\n",
        "        if not isinstance(other, Vector3):\n",
        "            raise ValueError(f\"Cannot perform addition.  {other} is not of type Vector3.\")\n",
        "        new_x = self.X + other.X\n",
        "        new_y = self.Y + other.Y\n",
        "        new_z = self.Z + other.Z\n",
        "        return Vector3(new_x, new_y, new_z)\n",
        "\n",
        "    def normalized(self):\n",
        "        if self.mag == 0.0:\n",
        "            return Vector3()\n",
        "        return Vector3(\n",
        "            self.X / self.mag, self.Y / self.mag, self.Z / self.mag\n",
        "        )\n",
        "\n",
        "if __name__ == \"__main__\":\n",
        "    v0 = Vector3()\n",
        "    v1 = Vector3(3, 2, 1.5)\n",
        "    v2 = Vector3(4, 7, 10)\n",
        "\n",
        "    print(v0.mag)\n",
        "    print(v0.normalized())\n",
        "    print(f\"v1.mag = {v1.mag}\")\n",
        "    print(f\"v2.mag = {v2.mag}\")\n",
        "    print(f\"v1 + v2 = {v1 + v2}\")\n",
        "    print(f\"v1 - v2 = {v1 - v2}\")\n",
        "    print(f\"v1 * 3.2 = {v1 * 3.2}\")\n",
        "    print(f\"v2 * 2 = {v2 * 2}\")\n",
        "    print(f\"v1 normalized = {v1.normalized()}\")\n",
        "    print(f\"v2 normalized = {v2.normalized()}\")"
      ],
      "metadata": {
        "colab": {
          "base_uri": "https://localhost:8080/"
        },
        "id": "cGcDs5zTDMD6",
        "outputId": "0f0122d5-8a22-4cda-cf57-3d551bbe2731"
      },
      "execution_count": 9,
      "outputs": [
        {
          "output_type": "stream",
          "name": "stdout",
          "text": [
            "0.0\n",
            "<__main__.Vector3 object at 0x7aa0cd083c40>\n",
            "v1.mag = 3.905124837953327\n",
            "v2.mag = 12.84523257866513\n",
            "v1 + v2 = <__main__.Vector3 object at 0x7aa0cd083ac0>\n",
            "v1 - v2 = <__main__.Vector3 object at 0x7aa0cd083a00>\n",
            "v1 * 3.2 = <__main__.Vector3 object at 0x7aa0cd083940>\n",
            "v2 * 2 = <__main__.Vector3 object at 0x7aa0cd083880>\n",
            "v1 normalized = <__main__.Vector3 object at 0x7aa0cd0837c0>\n",
            "v2 normalized = <__main__.Vector3 object at 0x7aa0cd0836d0>\n"
          ]
        }
      ]
    }
  ]
}